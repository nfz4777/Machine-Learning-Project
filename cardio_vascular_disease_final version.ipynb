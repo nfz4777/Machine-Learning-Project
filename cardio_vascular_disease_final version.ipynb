{
 "cells": [
  {
   "cell_type": "code",
   "execution_count": 1,
   "id": "6104dba2",
   "metadata": {},
   "outputs": [],
   "source": [
    "import numpy as np\n",
    "import pandas as pd\n",
    "import matplotlib.pyplot as plt\n",
    "import seaborn as sns\n",
    "from sklearn.metrics import classification_report, confusion_matrix, accuracy_score\n",
    "from sklearn.model_selection import GridSearchCV"
   ]
  },
  {
   "cell_type": "code",
   "execution_count": 2,
   "id": "de8f0c35",
   "metadata": {},
   "outputs": [],
   "source": [
    "df=pd.read_csv('cardio_train.csv', sep=';')"
   ]
  },
  {
   "cell_type": "code",
   "execution_count": 3,
   "id": "84966b13",
   "metadata": {},
   "outputs": [
    {
     "data": {
      "text/html": [
       "<div>\n",
       "<style scoped>\n",
       "    .dataframe tbody tr th:only-of-type {\n",
       "        vertical-align: middle;\n",
       "    }\n",
       "\n",
       "    .dataframe tbody tr th {\n",
       "        vertical-align: top;\n",
       "    }\n",
       "\n",
       "    .dataframe thead th {\n",
       "        text-align: right;\n",
       "    }\n",
       "</style>\n",
       "<table border=\"1\" class=\"dataframe\">\n",
       "  <thead>\n",
       "    <tr style=\"text-align: right;\">\n",
       "      <th></th>\n",
       "      <th>id</th>\n",
       "      <th>age</th>\n",
       "      <th>gender</th>\n",
       "      <th>height</th>\n",
       "      <th>weight</th>\n",
       "      <th>ap_hi</th>\n",
       "      <th>ap_lo</th>\n",
       "      <th>cholesterol</th>\n",
       "      <th>gluc</th>\n",
       "      <th>smoke</th>\n",
       "      <th>alco</th>\n",
       "      <th>active</th>\n",
       "      <th>cardio</th>\n",
       "    </tr>\n",
       "  </thead>\n",
       "  <tbody>\n",
       "    <tr>\n",
       "      <th>0</th>\n",
       "      <td>0</td>\n",
       "      <td>18393</td>\n",
       "      <td>2</td>\n",
       "      <td>168</td>\n",
       "      <td>62.0</td>\n",
       "      <td>110</td>\n",
       "      <td>80</td>\n",
       "      <td>1</td>\n",
       "      <td>1</td>\n",
       "      <td>0</td>\n",
       "      <td>0</td>\n",
       "      <td>1</td>\n",
       "      <td>0</td>\n",
       "    </tr>\n",
       "    <tr>\n",
       "      <th>1</th>\n",
       "      <td>1</td>\n",
       "      <td>20228</td>\n",
       "      <td>1</td>\n",
       "      <td>156</td>\n",
       "      <td>85.0</td>\n",
       "      <td>140</td>\n",
       "      <td>90</td>\n",
       "      <td>3</td>\n",
       "      <td>1</td>\n",
       "      <td>0</td>\n",
       "      <td>0</td>\n",
       "      <td>1</td>\n",
       "      <td>1</td>\n",
       "    </tr>\n",
       "    <tr>\n",
       "      <th>2</th>\n",
       "      <td>2</td>\n",
       "      <td>18857</td>\n",
       "      <td>1</td>\n",
       "      <td>165</td>\n",
       "      <td>64.0</td>\n",
       "      <td>130</td>\n",
       "      <td>70</td>\n",
       "      <td>3</td>\n",
       "      <td>1</td>\n",
       "      <td>0</td>\n",
       "      <td>0</td>\n",
       "      <td>0</td>\n",
       "      <td>1</td>\n",
       "    </tr>\n",
       "    <tr>\n",
       "      <th>3</th>\n",
       "      <td>3</td>\n",
       "      <td>17623</td>\n",
       "      <td>2</td>\n",
       "      <td>169</td>\n",
       "      <td>82.0</td>\n",
       "      <td>150</td>\n",
       "      <td>100</td>\n",
       "      <td>1</td>\n",
       "      <td>1</td>\n",
       "      <td>0</td>\n",
       "      <td>0</td>\n",
       "      <td>1</td>\n",
       "      <td>1</td>\n",
       "    </tr>\n",
       "    <tr>\n",
       "      <th>4</th>\n",
       "      <td>4</td>\n",
       "      <td>17474</td>\n",
       "      <td>1</td>\n",
       "      <td>156</td>\n",
       "      <td>56.0</td>\n",
       "      <td>100</td>\n",
       "      <td>60</td>\n",
       "      <td>1</td>\n",
       "      <td>1</td>\n",
       "      <td>0</td>\n",
       "      <td>0</td>\n",
       "      <td>0</td>\n",
       "      <td>0</td>\n",
       "    </tr>\n",
       "  </tbody>\n",
       "</table>\n",
       "</div>"
      ],
      "text/plain": [
       "   id    age  gender  height  weight  ap_hi  ap_lo  cholesterol  gluc  smoke  \\\n",
       "0   0  18393       2     168    62.0    110     80            1     1      0   \n",
       "1   1  20228       1     156    85.0    140     90            3     1      0   \n",
       "2   2  18857       1     165    64.0    130     70            3     1      0   \n",
       "3   3  17623       2     169    82.0    150    100            1     1      0   \n",
       "4   4  17474       1     156    56.0    100     60            1     1      0   \n",
       "\n",
       "   alco  active  cardio  \n",
       "0     0       1       0  \n",
       "1     0       1       1  \n",
       "2     0       0       1  \n",
       "3     0       1       1  \n",
       "4     0       0       0  "
      ]
     },
     "execution_count": 3,
     "metadata": {},
     "output_type": "execute_result"
    }
   ],
   "source": [
    "df.head()"
   ]
  },
  {
   "cell_type": "code",
   "execution_count": 4,
   "id": "54c19a60",
   "metadata": {},
   "outputs": [
    {
     "data": {
      "text/plain": [
       "(70000, 13)"
      ]
     },
     "execution_count": 4,
     "metadata": {},
     "output_type": "execute_result"
    }
   ],
   "source": [
    "df.shape"
   ]
  },
  {
   "cell_type": "markdown",
   "id": "418ade7a",
   "metadata": {},
   "source": [
    "# Data Analysis"
   ]
  },
  {
   "cell_type": "code",
   "execution_count": 5,
   "id": "945596aa",
   "metadata": {},
   "outputs": [
    {
     "data": {
      "text/plain": [
       "(70000, 13)"
      ]
     },
     "execution_count": 5,
     "metadata": {},
     "output_type": "execute_result"
    }
   ],
   "source": [
    "#Checking shape of our dataset\n",
    "df.shape"
   ]
  },
  {
   "cell_type": "code",
   "execution_count": 6,
   "id": "7b2e2642",
   "metadata": {},
   "outputs": [],
   "source": [
    "df=df.drop(columns = [\"id\"])"
   ]
  },
  {
   "cell_type": "code",
   "execution_count": 7,
   "id": "7e15c40f",
   "metadata": {},
   "outputs": [
    {
     "data": {
      "text/html": [
       "<div>\n",
       "<style scoped>\n",
       "    .dataframe tbody tr th:only-of-type {\n",
       "        vertical-align: middle;\n",
       "    }\n",
       "\n",
       "    .dataframe tbody tr th {\n",
       "        vertical-align: top;\n",
       "    }\n",
       "\n",
       "    .dataframe thead th {\n",
       "        text-align: right;\n",
       "    }\n",
       "</style>\n",
       "<table border=\"1\" class=\"dataframe\">\n",
       "  <thead>\n",
       "    <tr style=\"text-align: right;\">\n",
       "      <th></th>\n",
       "      <th>age</th>\n",
       "      <th>gender</th>\n",
       "      <th>height</th>\n",
       "      <th>weight</th>\n",
       "      <th>ap_hi</th>\n",
       "      <th>ap_lo</th>\n",
       "      <th>cholesterol</th>\n",
       "      <th>gluc</th>\n",
       "      <th>smoke</th>\n",
       "      <th>alco</th>\n",
       "      <th>active</th>\n",
       "      <th>cardio</th>\n",
       "    </tr>\n",
       "  </thead>\n",
       "  <tbody>\n",
       "    <tr>\n",
       "      <th>0</th>\n",
       "      <td>18393</td>\n",
       "      <td>2</td>\n",
       "      <td>168</td>\n",
       "      <td>62.0</td>\n",
       "      <td>110</td>\n",
       "      <td>80</td>\n",
       "      <td>1</td>\n",
       "      <td>1</td>\n",
       "      <td>0</td>\n",
       "      <td>0</td>\n",
       "      <td>1</td>\n",
       "      <td>0</td>\n",
       "    </tr>\n",
       "    <tr>\n",
       "      <th>1</th>\n",
       "      <td>20228</td>\n",
       "      <td>1</td>\n",
       "      <td>156</td>\n",
       "      <td>85.0</td>\n",
       "      <td>140</td>\n",
       "      <td>90</td>\n",
       "      <td>3</td>\n",
       "      <td>1</td>\n",
       "      <td>0</td>\n",
       "      <td>0</td>\n",
       "      <td>1</td>\n",
       "      <td>1</td>\n",
       "    </tr>\n",
       "    <tr>\n",
       "      <th>2</th>\n",
       "      <td>18857</td>\n",
       "      <td>1</td>\n",
       "      <td>165</td>\n",
       "      <td>64.0</td>\n",
       "      <td>130</td>\n",
       "      <td>70</td>\n",
       "      <td>3</td>\n",
       "      <td>1</td>\n",
       "      <td>0</td>\n",
       "      <td>0</td>\n",
       "      <td>0</td>\n",
       "      <td>1</td>\n",
       "    </tr>\n",
       "    <tr>\n",
       "      <th>3</th>\n",
       "      <td>17623</td>\n",
       "      <td>2</td>\n",
       "      <td>169</td>\n",
       "      <td>82.0</td>\n",
       "      <td>150</td>\n",
       "      <td>100</td>\n",
       "      <td>1</td>\n",
       "      <td>1</td>\n",
       "      <td>0</td>\n",
       "      <td>0</td>\n",
       "      <td>1</td>\n",
       "      <td>1</td>\n",
       "    </tr>\n",
       "    <tr>\n",
       "      <th>4</th>\n",
       "      <td>17474</td>\n",
       "      <td>1</td>\n",
       "      <td>156</td>\n",
       "      <td>56.0</td>\n",
       "      <td>100</td>\n",
       "      <td>60</td>\n",
       "      <td>1</td>\n",
       "      <td>1</td>\n",
       "      <td>0</td>\n",
       "      <td>0</td>\n",
       "      <td>0</td>\n",
       "      <td>0</td>\n",
       "    </tr>\n",
       "  </tbody>\n",
       "</table>\n",
       "</div>"
      ],
      "text/plain": [
       "     age  gender  height  weight  ap_hi  ap_lo  cholesterol  gluc  smoke  \\\n",
       "0  18393       2     168    62.0    110     80            1     1      0   \n",
       "1  20228       1     156    85.0    140     90            3     1      0   \n",
       "2  18857       1     165    64.0    130     70            3     1      0   \n",
       "3  17623       2     169    82.0    150    100            1     1      0   \n",
       "4  17474       1     156    56.0    100     60            1     1      0   \n",
       "\n",
       "   alco  active  cardio  \n",
       "0     0       1       0  \n",
       "1     0       1       1  \n",
       "2     0       0       1  \n",
       "3     0       1       1  \n",
       "4     0       0       0  "
      ]
     },
     "execution_count": 7,
     "metadata": {},
     "output_type": "execute_result"
    }
   ],
   "source": [
    "df.head()"
   ]
  },
  {
   "cell_type": "code",
   "execution_count": 8,
   "id": "e8e9f9ec",
   "metadata": {},
   "outputs": [
    {
     "data": {
      "text/plain": [
       "False"
      ]
     },
     "execution_count": 8,
     "metadata": {},
     "output_type": "execute_result"
    }
   ],
   "source": [
    "#Check if there any null values\n",
    "df.isnull().values.any()"
   ]
  },
  {
   "cell_type": "code",
   "execution_count": 9,
   "id": "3f81f27c",
   "metadata": {},
   "outputs": [
    {
     "data": {
      "text/plain": [
       "age            0\n",
       "gender         0\n",
       "height         0\n",
       "weight         0\n",
       "ap_hi          0\n",
       "ap_lo          0\n",
       "cholesterol    0\n",
       "gluc           0\n",
       "smoke          0\n",
       "alco           0\n",
       "active         0\n",
       "cardio         0\n",
       "dtype: int64"
      ]
     },
     "execution_count": 9,
     "metadata": {},
     "output_type": "execute_result"
    }
   ],
   "source": [
    "df.isna().sum()"
   ]
  },
  {
   "cell_type": "code",
   "execution_count": 10,
   "id": "7047c45f",
   "metadata": {},
   "outputs": [
    {
     "name": "stdout",
     "output_type": "stream",
     "text": [
      "<class 'pandas.core.frame.DataFrame'>\n",
      "RangeIndex: 70000 entries, 0 to 69999\n",
      "Data columns (total 12 columns):\n",
      " #   Column       Non-Null Count  Dtype  \n",
      "---  ------       --------------  -----  \n",
      " 0   age          70000 non-null  int64  \n",
      " 1   gender       70000 non-null  int64  \n",
      " 2   height       70000 non-null  int64  \n",
      " 3   weight       70000 non-null  float64\n",
      " 4   ap_hi        70000 non-null  int64  \n",
      " 5   ap_lo        70000 non-null  int64  \n",
      " 6   cholesterol  70000 non-null  int64  \n",
      " 7   gluc         70000 non-null  int64  \n",
      " 8   smoke        70000 non-null  int64  \n",
      " 9   alco         70000 non-null  int64  \n",
      " 10  active       70000 non-null  int64  \n",
      " 11  cardio       70000 non-null  int64  \n",
      "dtypes: float64(1), int64(11)\n",
      "memory usage: 6.4 MB\n"
     ]
    }
   ],
   "source": [
    "# data types\n",
    "df.info()"
   ]
  },
  {
   "cell_type": "code",
   "execution_count": 11,
   "id": "d5ceb004",
   "metadata": {},
   "outputs": [
    {
     "data": {
      "text/html": [
       "<div>\n",
       "<style scoped>\n",
       "    .dataframe tbody tr th:only-of-type {\n",
       "        vertical-align: middle;\n",
       "    }\n",
       "\n",
       "    .dataframe tbody tr th {\n",
       "        vertical-align: top;\n",
       "    }\n",
       "\n",
       "    .dataframe thead th {\n",
       "        text-align: right;\n",
       "    }\n",
       "</style>\n",
       "<table border=\"1\" class=\"dataframe\">\n",
       "  <thead>\n",
       "    <tr style=\"text-align: right;\">\n",
       "      <th></th>\n",
       "      <th>age</th>\n",
       "      <th>gender</th>\n",
       "      <th>height</th>\n",
       "      <th>weight</th>\n",
       "      <th>ap_hi</th>\n",
       "      <th>ap_lo</th>\n",
       "      <th>cholesterol</th>\n",
       "      <th>gluc</th>\n",
       "      <th>smoke</th>\n",
       "      <th>alco</th>\n",
       "      <th>active</th>\n",
       "      <th>cardio</th>\n",
       "    </tr>\n",
       "  </thead>\n",
       "  <tbody>\n",
       "    <tr>\n",
       "      <th>count</th>\n",
       "      <td>70000.000000</td>\n",
       "      <td>70000.000000</td>\n",
       "      <td>70000.000000</td>\n",
       "      <td>70000.000000</td>\n",
       "      <td>70000.000000</td>\n",
       "      <td>70000.000000</td>\n",
       "      <td>70000.000000</td>\n",
       "      <td>70000.000000</td>\n",
       "      <td>70000.000000</td>\n",
       "      <td>70000.000000</td>\n",
       "      <td>70000.000000</td>\n",
       "      <td>70000.000000</td>\n",
       "    </tr>\n",
       "    <tr>\n",
       "      <th>mean</th>\n",
       "      <td>19468.865814</td>\n",
       "      <td>1.349571</td>\n",
       "      <td>164.359229</td>\n",
       "      <td>74.205690</td>\n",
       "      <td>128.817286</td>\n",
       "      <td>96.630414</td>\n",
       "      <td>1.366871</td>\n",
       "      <td>1.226457</td>\n",
       "      <td>0.088129</td>\n",
       "      <td>0.053771</td>\n",
       "      <td>0.803729</td>\n",
       "      <td>0.499700</td>\n",
       "    </tr>\n",
       "    <tr>\n",
       "      <th>std</th>\n",
       "      <td>2467.251667</td>\n",
       "      <td>0.476838</td>\n",
       "      <td>8.210126</td>\n",
       "      <td>14.395757</td>\n",
       "      <td>154.011419</td>\n",
       "      <td>188.472530</td>\n",
       "      <td>0.680250</td>\n",
       "      <td>0.572270</td>\n",
       "      <td>0.283484</td>\n",
       "      <td>0.225568</td>\n",
       "      <td>0.397179</td>\n",
       "      <td>0.500003</td>\n",
       "    </tr>\n",
       "    <tr>\n",
       "      <th>min</th>\n",
       "      <td>10798.000000</td>\n",
       "      <td>1.000000</td>\n",
       "      <td>55.000000</td>\n",
       "      <td>10.000000</td>\n",
       "      <td>-150.000000</td>\n",
       "      <td>-70.000000</td>\n",
       "      <td>1.000000</td>\n",
       "      <td>1.000000</td>\n",
       "      <td>0.000000</td>\n",
       "      <td>0.000000</td>\n",
       "      <td>0.000000</td>\n",
       "      <td>0.000000</td>\n",
       "    </tr>\n",
       "    <tr>\n",
       "      <th>25%</th>\n",
       "      <td>17664.000000</td>\n",
       "      <td>1.000000</td>\n",
       "      <td>159.000000</td>\n",
       "      <td>65.000000</td>\n",
       "      <td>120.000000</td>\n",
       "      <td>80.000000</td>\n",
       "      <td>1.000000</td>\n",
       "      <td>1.000000</td>\n",
       "      <td>0.000000</td>\n",
       "      <td>0.000000</td>\n",
       "      <td>1.000000</td>\n",
       "      <td>0.000000</td>\n",
       "    </tr>\n",
       "    <tr>\n",
       "      <th>50%</th>\n",
       "      <td>19703.000000</td>\n",
       "      <td>1.000000</td>\n",
       "      <td>165.000000</td>\n",
       "      <td>72.000000</td>\n",
       "      <td>120.000000</td>\n",
       "      <td>80.000000</td>\n",
       "      <td>1.000000</td>\n",
       "      <td>1.000000</td>\n",
       "      <td>0.000000</td>\n",
       "      <td>0.000000</td>\n",
       "      <td>1.000000</td>\n",
       "      <td>0.000000</td>\n",
       "    </tr>\n",
       "    <tr>\n",
       "      <th>75%</th>\n",
       "      <td>21327.000000</td>\n",
       "      <td>2.000000</td>\n",
       "      <td>170.000000</td>\n",
       "      <td>82.000000</td>\n",
       "      <td>140.000000</td>\n",
       "      <td>90.000000</td>\n",
       "      <td>2.000000</td>\n",
       "      <td>1.000000</td>\n",
       "      <td>0.000000</td>\n",
       "      <td>0.000000</td>\n",
       "      <td>1.000000</td>\n",
       "      <td>1.000000</td>\n",
       "    </tr>\n",
       "    <tr>\n",
       "      <th>max</th>\n",
       "      <td>23713.000000</td>\n",
       "      <td>2.000000</td>\n",
       "      <td>250.000000</td>\n",
       "      <td>200.000000</td>\n",
       "      <td>16020.000000</td>\n",
       "      <td>11000.000000</td>\n",
       "      <td>3.000000</td>\n",
       "      <td>3.000000</td>\n",
       "      <td>1.000000</td>\n",
       "      <td>1.000000</td>\n",
       "      <td>1.000000</td>\n",
       "      <td>1.000000</td>\n",
       "    </tr>\n",
       "  </tbody>\n",
       "</table>\n",
       "</div>"
      ],
      "text/plain": [
       "                age        gender        height        weight         ap_hi  \\\n",
       "count  70000.000000  70000.000000  70000.000000  70000.000000  70000.000000   \n",
       "mean   19468.865814      1.349571    164.359229     74.205690    128.817286   \n",
       "std     2467.251667      0.476838      8.210126     14.395757    154.011419   \n",
       "min    10798.000000      1.000000     55.000000     10.000000   -150.000000   \n",
       "25%    17664.000000      1.000000    159.000000     65.000000    120.000000   \n",
       "50%    19703.000000      1.000000    165.000000     72.000000    120.000000   \n",
       "75%    21327.000000      2.000000    170.000000     82.000000    140.000000   \n",
       "max    23713.000000      2.000000    250.000000    200.000000  16020.000000   \n",
       "\n",
       "              ap_lo   cholesterol          gluc         smoke          alco  \\\n",
       "count  70000.000000  70000.000000  70000.000000  70000.000000  70000.000000   \n",
       "mean      96.630414      1.366871      1.226457      0.088129      0.053771   \n",
       "std      188.472530      0.680250      0.572270      0.283484      0.225568   \n",
       "min      -70.000000      1.000000      1.000000      0.000000      0.000000   \n",
       "25%       80.000000      1.000000      1.000000      0.000000      0.000000   \n",
       "50%       80.000000      1.000000      1.000000      0.000000      0.000000   \n",
       "75%       90.000000      2.000000      1.000000      0.000000      0.000000   \n",
       "max    11000.000000      3.000000      3.000000      1.000000      1.000000   \n",
       "\n",
       "             active        cardio  \n",
       "count  70000.000000  70000.000000  \n",
       "mean       0.803729      0.499700  \n",
       "std        0.397179      0.500003  \n",
       "min        0.000000      0.000000  \n",
       "25%        1.000000      0.000000  \n",
       "50%        1.000000      0.000000  \n",
       "75%        1.000000      1.000000  \n",
       "max        1.000000      1.000000  "
      ]
     },
     "execution_count": 11,
     "metadata": {},
     "output_type": "execute_result"
    }
   ],
   "source": [
    "df.describe()"
   ]
  },
  {
   "cell_type": "code",
   "execution_count": 12,
   "id": "9dc961db",
   "metadata": {},
   "outputs": [
    {
     "name": "stdout",
     "output_type": "stream",
     "text": [
      "0    35021\n",
      "1    34979\n",
      "Name: cardio, dtype: int64\n",
      "positive ratio 0.50\n"
     ]
    },
    {
     "name": "stderr",
     "output_type": "stream",
     "text": [
      "/Users/wuchengying/opt/anaconda3/lib/python3.8/site-packages/seaborn/_decorators.py:36: FutureWarning: Pass the following variable as a keyword arg: x. From version 0.12, the only valid positional argument will be `data`, and passing other arguments without an explicit keyword will result in an error or misinterpretation.\n",
      "  warnings.warn(\n"
     ]
    },
    {
     "data": {
      "text/plain": [
       "<AxesSubplot:xlabel='cardio', ylabel='count'>"
      ]
     },
     "execution_count": 12,
     "metadata": {},
     "output_type": "execute_result"
    },
    {
     "data": {
      "image/png": "[encoded data removed]",
      "text/plain": [
       "<Figure size 432x288 with 1 Axes>"
      ]
     },
     "metadata": {
      "needs_background": "light"
     },
     "output_type": "display_data"
    }
   ],
   "source": [
    "#Checking balanced/imbalanced dataset\n",
    "print(df['cardio'].value_counts())\n",
    "print(f\"positive ratio {len(df[df.cardio==1])/len(df) :.2f}\" )\n",
    "sns.countplot(df['cardio'])"
   ]
  },
  {
   "cell_type": "code",
   "execution_count": 13,
   "id": "bfb761a1",
   "metadata": {},
   "outputs": [
    {
     "data": {
      "image/png": "[encoded data removed]",
      "text/plain": [
       "<Figure size 1080x360 with 1 Axes>"
      ]
     },
     "metadata": {
      "needs_background": "light"
     },
     "output_type": "display_data"
    }
   ],
   "source": [
    "#Checking Outliers\n",
    "plt.figure(figsize=[15, 5])\n",
    "sns.boxplot(data = df)\n",
    "\n",
    "plt.show()"
   ]
  },
  {
   "cell_type": "markdown",
   "id": "94b8d888",
   "metadata": {},
   "source": [
    "## Remove Outliers"
   ]
  },
  {
   "cell_type": "code",
   "execution_count": 14,
   "id": "c45badd0",
   "metadata": {},
   "outputs": [
    {
     "data": {
      "text/plain": [
       "count    70000.000000\n",
       "mean       128.817286\n",
       "std        154.011419\n",
       "min       -150.000000\n",
       "25%        120.000000\n",
       "50%        120.000000\n",
       "75%        140.000000\n",
       "max      16020.000000\n",
       "Name: ap_hi, dtype: float64"
      ]
     },
     "execution_count": 14,
     "metadata": {},
     "output_type": "execute_result"
    }
   ],
   "source": [
    "df.ap_hi.describe()"
   ]
  },
  {
   "cell_type": "code",
   "execution_count": 15,
   "id": "29b654da",
   "metadata": {},
   "outputs": [
    {
     "name": "stdout",
     "output_type": "stream",
     "text": [
      "(70000, 12)\n",
      "(69962, 13)\n"
     ]
    },
    {
     "data": {
      "text/html": [
       "<div>\n",
       "<style scoped>\n",
       "    .dataframe tbody tr th:only-of-type {\n",
       "        vertical-align: middle;\n",
       "    }\n",
       "\n",
       "    .dataframe tbody tr th {\n",
       "        vertical-align: top;\n",
       "    }\n",
       "\n",
       "    .dataframe thead th {\n",
       "        text-align: right;\n",
       "    }\n",
       "</style>\n",
       "<table border=\"1\" class=\"dataframe\">\n",
       "  <thead>\n",
       "    <tr style=\"text-align: right;\">\n",
       "      <th></th>\n",
       "      <th>age</th>\n",
       "      <th>gender</th>\n",
       "      <th>height</th>\n",
       "      <th>weight</th>\n",
       "      <th>ap_hi</th>\n",
       "      <th>ap_lo</th>\n",
       "      <th>cholesterol</th>\n",
       "      <th>gluc</th>\n",
       "      <th>smoke</th>\n",
       "      <th>alco</th>\n",
       "      <th>active</th>\n",
       "      <th>cardio</th>\n",
       "      <th>z_score_1</th>\n",
       "    </tr>\n",
       "  </thead>\n",
       "  <tbody>\n",
       "    <tr>\n",
       "      <th>0</th>\n",
       "      <td>18393</td>\n",
       "      <td>2</td>\n",
       "      <td>168</td>\n",
       "      <td>62.0</td>\n",
       "      <td>110</td>\n",
       "      <td>80</td>\n",
       "      <td>1</td>\n",
       "      <td>1</td>\n",
       "      <td>0</td>\n",
       "      <td>0</td>\n",
       "      <td>1</td>\n",
       "      <td>0</td>\n",
       "      <td>-0.122181</td>\n",
       "    </tr>\n",
       "    <tr>\n",
       "      <th>1</th>\n",
       "      <td>20228</td>\n",
       "      <td>1</td>\n",
       "      <td>156</td>\n",
       "      <td>85.0</td>\n",
       "      <td>140</td>\n",
       "      <td>90</td>\n",
       "      <td>3</td>\n",
       "      <td>1</td>\n",
       "      <td>0</td>\n",
       "      <td>0</td>\n",
       "      <td>1</td>\n",
       "      <td>1</td>\n",
       "      <td>0.072610</td>\n",
       "    </tr>\n",
       "    <tr>\n",
       "      <th>2</th>\n",
       "      <td>18857</td>\n",
       "      <td>1</td>\n",
       "      <td>165</td>\n",
       "      <td>64.0</td>\n",
       "      <td>130</td>\n",
       "      <td>70</td>\n",
       "      <td>3</td>\n",
       "      <td>1</td>\n",
       "      <td>0</td>\n",
       "      <td>0</td>\n",
       "      <td>0</td>\n",
       "      <td>1</td>\n",
       "      <td>0.007679</td>\n",
       "    </tr>\n",
       "    <tr>\n",
       "      <th>3</th>\n",
       "      <td>17623</td>\n",
       "      <td>2</td>\n",
       "      <td>169</td>\n",
       "      <td>82.0</td>\n",
       "      <td>150</td>\n",
       "      <td>100</td>\n",
       "      <td>1</td>\n",
       "      <td>1</td>\n",
       "      <td>0</td>\n",
       "      <td>0</td>\n",
       "      <td>1</td>\n",
       "      <td>1</td>\n",
       "      <td>0.137540</td>\n",
       "    </tr>\n",
       "    <tr>\n",
       "      <th>4</th>\n",
       "      <td>17474</td>\n",
       "      <td>1</td>\n",
       "      <td>156</td>\n",
       "      <td>56.0</td>\n",
       "      <td>100</td>\n",
       "      <td>60</td>\n",
       "      <td>1</td>\n",
       "      <td>1</td>\n",
       "      <td>0</td>\n",
       "      <td>0</td>\n",
       "      <td>0</td>\n",
       "      <td>0</td>\n",
       "      <td>-0.187111</td>\n",
       "    </tr>\n",
       "  </tbody>\n",
       "</table>\n",
       "</div>"
      ],
      "text/plain": [
       "     age  gender  height  weight  ap_hi  ap_lo  cholesterol  gluc  smoke  \\\n",
       "0  18393       2     168    62.0    110     80            1     1      0   \n",
       "1  20228       1     156    85.0    140     90            3     1      0   \n",
       "2  18857       1     165    64.0    130     70            3     1      0   \n",
       "3  17623       2     169    82.0    150    100            1     1      0   \n",
       "4  17474       1     156    56.0    100     60            1     1      0   \n",
       "\n",
       "   alco  active  cardio  z_score_1  \n",
       "0     0       1       0  -0.122181  \n",
       "1     0       1       1   0.072610  \n",
       "2     0       0       1   0.007679  \n",
       "3     0       1       1   0.137540  \n",
       "4     0       0       0  -0.187111  "
      ]
     },
     "execution_count": 15,
     "metadata": {},
     "output_type": "execute_result"
    }
   ],
   "source": [
    "print(df.shape)\n",
    "df[\"z_score_1\"]=(df.ap_hi-df.ap_hi.mean())/df.ap_hi.std()\n",
    "\n",
    "df=df[(df.z_score_1<2) & (df.z_score_1>-2)]\n",
    "print(df.shape)\n",
    "\n",
    "df.head()"
   ]
  },
  {
   "cell_type": "code",
   "execution_count": 16,
   "id": "566d1668",
   "metadata": {},
   "outputs": [],
   "source": [
    "df=df.drop(columns=\"z_score_1\")"
   ]
  },
  {
   "cell_type": "code",
   "execution_count": 17,
   "id": "e6d45fee",
   "metadata": {},
   "outputs": [
    {
     "data": {
      "text/html": [
       "<div>\n",
       "<style scoped>\n",
       "    .dataframe tbody tr th:only-of-type {\n",
       "        vertical-align: middle;\n",
       "    }\n",
       "\n",
       "    .dataframe tbody tr th {\n",
       "        vertical-align: top;\n",
       "    }\n",
       "\n",
       "    .dataframe thead th {\n",
       "        text-align: right;\n",
       "    }\n",
       "</style>\n",
       "<table border=\"1\" class=\"dataframe\">\n",
       "  <thead>\n",
       "    <tr style=\"text-align: right;\">\n",
       "      <th></th>\n",
       "      <th>age</th>\n",
       "      <th>gender</th>\n",
       "      <th>height</th>\n",
       "      <th>weight</th>\n",
       "      <th>ap_hi</th>\n",
       "      <th>ap_lo</th>\n",
       "      <th>cholesterol</th>\n",
       "      <th>gluc</th>\n",
       "      <th>smoke</th>\n",
       "      <th>alco</th>\n",
       "      <th>active</th>\n",
       "      <th>cardio</th>\n",
       "    </tr>\n",
       "  </thead>\n",
       "  <tbody>\n",
       "    <tr>\n",
       "      <th>0</th>\n",
       "      <td>18393</td>\n",
       "      <td>2</td>\n",
       "      <td>168</td>\n",
       "      <td>62.0</td>\n",
       "      <td>110</td>\n",
       "      <td>80</td>\n",
       "      <td>1</td>\n",
       "      <td>1</td>\n",
       "      <td>0</td>\n",
       "      <td>0</td>\n",
       "      <td>1</td>\n",
       "      <td>0</td>\n",
       "    </tr>\n",
       "    <tr>\n",
       "      <th>1</th>\n",
       "      <td>20228</td>\n",
       "      <td>1</td>\n",
       "      <td>156</td>\n",
       "      <td>85.0</td>\n",
       "      <td>140</td>\n",
       "      <td>90</td>\n",
       "      <td>3</td>\n",
       "      <td>1</td>\n",
       "      <td>0</td>\n",
       "      <td>0</td>\n",
       "      <td>1</td>\n",
       "      <td>1</td>\n",
       "    </tr>\n",
       "    <tr>\n",
       "      <th>2</th>\n",
       "      <td>18857</td>\n",
       "      <td>1</td>\n",
       "      <td>165</td>\n",
       "      <td>64.0</td>\n",
       "      <td>130</td>\n",
       "      <td>70</td>\n",
       "      <td>3</td>\n",
       "      <td>1</td>\n",
       "      <td>0</td>\n",
       "      <td>0</td>\n",
       "      <td>0</td>\n",
       "      <td>1</td>\n",
       "    </tr>\n",
       "    <tr>\n",
       "      <th>3</th>\n",
       "      <td>17623</td>\n",
       "      <td>2</td>\n",
       "      <td>169</td>\n",
       "      <td>82.0</td>\n",
       "      <td>150</td>\n",
       "      <td>100</td>\n",
       "      <td>1</td>\n",
       "      <td>1</td>\n",
       "      <td>0</td>\n",
       "      <td>0</td>\n",
       "      <td>1</td>\n",
       "      <td>1</td>\n",
       "    </tr>\n",
       "    <tr>\n",
       "      <th>4</th>\n",
       "      <td>17474</td>\n",
       "      <td>1</td>\n",
       "      <td>156</td>\n",
       "      <td>56.0</td>\n",
       "      <td>100</td>\n",
       "      <td>60</td>\n",
       "      <td>1</td>\n",
       "      <td>1</td>\n",
       "      <td>0</td>\n",
       "      <td>0</td>\n",
       "      <td>0</td>\n",
       "      <td>0</td>\n",
       "    </tr>\n",
       "  </tbody>\n",
       "</table>\n",
       "</div>"
      ],
      "text/plain": [
       "     age  gender  height  weight  ap_hi  ap_lo  cholesterol  gluc  smoke  \\\n",
       "0  18393       2     168    62.0    110     80            1     1      0   \n",
       "1  20228       1     156    85.0    140     90            3     1      0   \n",
       "2  18857       1     165    64.0    130     70            3     1      0   \n",
       "3  17623       2     169    82.0    150    100            1     1      0   \n",
       "4  17474       1     156    56.0    100     60            1     1      0   \n",
       "\n",
       "   alco  active  cardio  \n",
       "0     0       1       0  \n",
       "1     0       1       1  \n",
       "2     0       0       1  \n",
       "3     0       1       1  \n",
       "4     0       0       0  "
      ]
     },
     "execution_count": 17,
     "metadata": {},
     "output_type": "execute_result"
    }
   ],
   "source": [
    "df.head()"
   ]
  },
  {
   "cell_type": "code",
   "execution_count": 18,
   "id": "78474e90",
   "metadata": {},
   "outputs": [
    {
     "data": {
      "text/plain": [
       "count    69962.000000\n",
       "mean        96.646022\n",
       "std        188.521107\n",
       "min        -70.000000\n",
       "25%         80.000000\n",
       "50%         80.000000\n",
       "75%         90.000000\n",
       "max      11000.000000\n",
       "Name: ap_lo, dtype: float64"
      ]
     },
     "execution_count": 18,
     "metadata": {},
     "output_type": "execute_result"
    }
   ],
   "source": [
    "df.ap_lo.describe()"
   ]
  },
  {
   "cell_type": "code",
   "execution_count": 19,
   "id": "ae8e7d02",
   "metadata": {},
   "outputs": [
    {
     "name": "stdout",
     "output_type": "stream",
     "text": [
      "(69962, 12)\n",
      "(69011, 13)\n"
     ]
    },
    {
     "data": {
      "text/html": [
       "<div>\n",
       "<style scoped>\n",
       "    .dataframe tbody tr th:only-of-type {\n",
       "        vertical-align: middle;\n",
       "    }\n",
       "\n",
       "    .dataframe tbody tr th {\n",
       "        vertical-align: top;\n",
       "    }\n",
       "\n",
       "    .dataframe thead th {\n",
       "        text-align: right;\n",
       "    }\n",
       "</style>\n",
       "<table border=\"1\" class=\"dataframe\">\n",
       "  <thead>\n",
       "    <tr style=\"text-align: right;\">\n",
       "      <th></th>\n",
       "      <th>age</th>\n",
       "      <th>gender</th>\n",
       "      <th>height</th>\n",
       "      <th>weight</th>\n",
       "      <th>ap_hi</th>\n",
       "      <th>ap_lo</th>\n",
       "      <th>cholesterol</th>\n",
       "      <th>gluc</th>\n",
       "      <th>smoke</th>\n",
       "      <th>alco</th>\n",
       "      <th>active</th>\n",
       "      <th>cardio</th>\n",
       "      <th>z_score_1</th>\n",
       "    </tr>\n",
       "  </thead>\n",
       "  <tbody>\n",
       "    <tr>\n",
       "      <th>0</th>\n",
       "      <td>18393</td>\n",
       "      <td>2</td>\n",
       "      <td>168</td>\n",
       "      <td>62.0</td>\n",
       "      <td>110</td>\n",
       "      <td>80</td>\n",
       "      <td>1</td>\n",
       "      <td>1</td>\n",
       "      <td>0</td>\n",
       "      <td>0</td>\n",
       "      <td>1</td>\n",
       "      <td>0</td>\n",
       "      <td>-0.088298</td>\n",
       "    </tr>\n",
       "    <tr>\n",
       "      <th>1</th>\n",
       "      <td>20228</td>\n",
       "      <td>1</td>\n",
       "      <td>156</td>\n",
       "      <td>85.0</td>\n",
       "      <td>140</td>\n",
       "      <td>90</td>\n",
       "      <td>3</td>\n",
       "      <td>1</td>\n",
       "      <td>0</td>\n",
       "      <td>0</td>\n",
       "      <td>1</td>\n",
       "      <td>1</td>\n",
       "      <td>-0.035253</td>\n",
       "    </tr>\n",
       "    <tr>\n",
       "      <th>2</th>\n",
       "      <td>18857</td>\n",
       "      <td>1</td>\n",
       "      <td>165</td>\n",
       "      <td>64.0</td>\n",
       "      <td>130</td>\n",
       "      <td>70</td>\n",
       "      <td>3</td>\n",
       "      <td>1</td>\n",
       "      <td>0</td>\n",
       "      <td>0</td>\n",
       "      <td>0</td>\n",
       "      <td>1</td>\n",
       "      <td>-0.141342</td>\n",
       "    </tr>\n",
       "    <tr>\n",
       "      <th>3</th>\n",
       "      <td>17623</td>\n",
       "      <td>2</td>\n",
       "      <td>169</td>\n",
       "      <td>82.0</td>\n",
       "      <td>150</td>\n",
       "      <td>100</td>\n",
       "      <td>1</td>\n",
       "      <td>1</td>\n",
       "      <td>0</td>\n",
       "      <td>0</td>\n",
       "      <td>1</td>\n",
       "      <td>1</td>\n",
       "      <td>0.017791</td>\n",
       "    </tr>\n",
       "    <tr>\n",
       "      <th>4</th>\n",
       "      <td>17474</td>\n",
       "      <td>1</td>\n",
       "      <td>156</td>\n",
       "      <td>56.0</td>\n",
       "      <td>100</td>\n",
       "      <td>60</td>\n",
       "      <td>1</td>\n",
       "      <td>1</td>\n",
       "      <td>0</td>\n",
       "      <td>0</td>\n",
       "      <td>0</td>\n",
       "      <td>0</td>\n",
       "      <td>-0.194387</td>\n",
       "    </tr>\n",
       "  </tbody>\n",
       "</table>\n",
       "</div>"
      ],
      "text/plain": [
       "     age  gender  height  weight  ap_hi  ap_lo  cholesterol  gluc  smoke  \\\n",
       "0  18393       2     168    62.0    110     80            1     1      0   \n",
       "1  20228       1     156    85.0    140     90            3     1      0   \n",
       "2  18857       1     165    64.0    130     70            3     1      0   \n",
       "3  17623       2     169    82.0    150    100            1     1      0   \n",
       "4  17474       1     156    56.0    100     60            1     1      0   \n",
       "\n",
       "   alco  active  cardio  z_score_1  \n",
       "0     0       1       0  -0.088298  \n",
       "1     0       1       1  -0.035253  \n",
       "2     0       0       1  -0.141342  \n",
       "3     0       1       1   0.017791  \n",
       "4     0       0       0  -0.194387  "
      ]
     },
     "execution_count": 19,
     "metadata": {},
     "output_type": "execute_result"
    }
   ],
   "source": [
    "print(df.shape)\n",
    "df[\"z_score_1\"]=(df.ap_lo-df.ap_lo.mean())/df.ap_lo.std()\n",
    "\n",
    "df=df[(df.z_score_1<3) & (df.z_score_1>-3)]\n",
    "print(df.shape)\n",
    "\n",
    "df.head()"
   ]
  },
  {
   "cell_type": "code",
   "execution_count": 20,
   "id": "63fcbe2c",
   "metadata": {},
   "outputs": [],
   "source": [
    "df=df.drop(columns=\"z_score_1\")"
   ]
  },
  {
   "cell_type": "code",
   "execution_count": 21,
   "id": "95373e23",
   "metadata": {},
   "outputs": [
    {
     "data": {
      "text/html": [
       "<div>\n",
       "<style scoped>\n",
       "    .dataframe tbody tr th:only-of-type {\n",
       "        vertical-align: middle;\n",
       "    }\n",
       "\n",
       "    .dataframe tbody tr th {\n",
       "        vertical-align: top;\n",
       "    }\n",
       "\n",
       "    .dataframe thead th {\n",
       "        text-align: right;\n",
       "    }\n",
       "</style>\n",
       "<table border=\"1\" class=\"dataframe\">\n",
       "  <thead>\n",
       "    <tr style=\"text-align: right;\">\n",
       "      <th></th>\n",
       "      <th>age</th>\n",
       "      <th>gender</th>\n",
       "      <th>height</th>\n",
       "      <th>weight</th>\n",
       "      <th>ap_hi</th>\n",
       "      <th>ap_lo</th>\n",
       "      <th>cholesterol</th>\n",
       "      <th>gluc</th>\n",
       "      <th>smoke</th>\n",
       "      <th>alco</th>\n",
       "      <th>active</th>\n",
       "      <th>cardio</th>\n",
       "    </tr>\n",
       "  </thead>\n",
       "  <tbody>\n",
       "    <tr>\n",
       "      <th>0</th>\n",
       "      <td>18393</td>\n",
       "      <td>2</td>\n",
       "      <td>168</td>\n",
       "      <td>62.0</td>\n",
       "      <td>110</td>\n",
       "      <td>80</td>\n",
       "      <td>1</td>\n",
       "      <td>1</td>\n",
       "      <td>0</td>\n",
       "      <td>0</td>\n",
       "      <td>1</td>\n",
       "      <td>0</td>\n",
       "    </tr>\n",
       "    <tr>\n",
       "      <th>1</th>\n",
       "      <td>20228</td>\n",
       "      <td>1</td>\n",
       "      <td>156</td>\n",
       "      <td>85.0</td>\n",
       "      <td>140</td>\n",
       "      <td>90</td>\n",
       "      <td>3</td>\n",
       "      <td>1</td>\n",
       "      <td>0</td>\n",
       "      <td>0</td>\n",
       "      <td>1</td>\n",
       "      <td>1</td>\n",
       "    </tr>\n",
       "    <tr>\n",
       "      <th>2</th>\n",
       "      <td>18857</td>\n",
       "      <td>1</td>\n",
       "      <td>165</td>\n",
       "      <td>64.0</td>\n",
       "      <td>130</td>\n",
       "      <td>70</td>\n",
       "      <td>3</td>\n",
       "      <td>1</td>\n",
       "      <td>0</td>\n",
       "      <td>0</td>\n",
       "      <td>0</td>\n",
       "      <td>1</td>\n",
       "    </tr>\n",
       "    <tr>\n",
       "      <th>3</th>\n",
       "      <td>17623</td>\n",
       "      <td>2</td>\n",
       "      <td>169</td>\n",
       "      <td>82.0</td>\n",
       "      <td>150</td>\n",
       "      <td>100</td>\n",
       "      <td>1</td>\n",
       "      <td>1</td>\n",
       "      <td>0</td>\n",
       "      <td>0</td>\n",
       "      <td>1</td>\n",
       "      <td>1</td>\n",
       "    </tr>\n",
       "    <tr>\n",
       "      <th>4</th>\n",
       "      <td>17474</td>\n",
       "      <td>1</td>\n",
       "      <td>156</td>\n",
       "      <td>56.0</td>\n",
       "      <td>100</td>\n",
       "      <td>60</td>\n",
       "      <td>1</td>\n",
       "      <td>1</td>\n",
       "      <td>0</td>\n",
       "      <td>0</td>\n",
       "      <td>0</td>\n",
       "      <td>0</td>\n",
       "    </tr>\n",
       "  </tbody>\n",
       "</table>\n",
       "</div>"
      ],
      "text/plain": [
       "     age  gender  height  weight  ap_hi  ap_lo  cholesterol  gluc  smoke  \\\n",
       "0  18393       2     168    62.0    110     80            1     1      0   \n",
       "1  20228       1     156    85.0    140     90            3     1      0   \n",
       "2  18857       1     165    64.0    130     70            3     1      0   \n",
       "3  17623       2     169    82.0    150    100            1     1      0   \n",
       "4  17474       1     156    56.0    100     60            1     1      0   \n",
       "\n",
       "   alco  active  cardio  \n",
       "0     0       1       0  \n",
       "1     0       1       1  \n",
       "2     0       0       1  \n",
       "3     0       1       1  \n",
       "4     0       0       0  "
      ]
     },
     "execution_count": 21,
     "metadata": {},
     "output_type": "execute_result"
    }
   ],
   "source": [
    "df.head()"
   ]
  },
  {
   "cell_type": "code",
   "execution_count": 22,
   "id": "da1b408e",
   "metadata": {},
   "outputs": [
    {
     "data": {
      "text/plain": [
       "(69011, 12)"
      ]
     },
     "execution_count": 22,
     "metadata": {},
     "output_type": "execute_result"
    }
   ],
   "source": [
    "df.shape"
   ]
  },
  {
   "cell_type": "code",
   "execution_count": 23,
   "id": "6f7383db",
   "metadata": {},
   "outputs": [
    {
     "data": {
      "image/png": "[encoded data removed]",
      "text/plain": [
       "<Figure size 432x288 with 1 Axes>"
      ]
     },
     "metadata": {
      "needs_background": "light"
     },
     "output_type": "display_data"
    }
   ],
   "source": [
    "# male/female ratio\n",
    "\n",
    "women = df[df.gender== 1].shape[0]\n",
    "men = df[df.gender== 2].shape[0]\n",
    "\n",
    "plt.bar([\"women\", \"men\"], [1, 2])\n",
    "plt.show()"
   ]
  },
  {
   "cell_type": "markdown",
   "id": "f8725208",
   "metadata": {},
   "source": [
    "## Feature Selection"
   ]
  },
  {
   "cell_type": "code",
   "execution_count": 24,
   "id": "5a4110a4",
   "metadata": {},
   "outputs": [
    {
     "data": {
      "text/plain": [
       "ap_hi          0.396218\n",
       "ap_lo          0.315976\n",
       "age            0.239693\n",
       "cholesterol    0.221397\n",
       "weight         0.179971\n",
       "gluc           0.089807\n",
       "gender         0.007528\n",
       "alco          -0.008115\n",
       "height        -0.010340\n",
       "smoke         -0.016324\n",
       "active        -0.037223\n",
       "dtype: float64"
      ]
     },
     "execution_count": 24,
     "metadata": {},
     "output_type": "execute_result"
    }
   ],
   "source": [
    "# find out most important features\n",
    "\n",
    "# label col\n",
    "y = df.cardio\n",
    "\n",
    "# independant variable\n",
    "x = df.drop(columns = [\"cardio\"] ) \n",
    "\n",
    "# corelation y ~ X \n",
    "corr_X = x.corrwith(y)\n",
    "corr_X.sort_values(ascending=False)\n",
    "\n"
   ]
  },
  {
   "cell_type": "code",
   "execution_count": 25,
   "id": "fe88719d",
   "metadata": {},
   "outputs": [
    {
     "data": {
      "image/png": "[encoded data removed]",
      "text/plain": [
       "<Figure size 1008x576 with 2 Axes>"
      ]
     },
     "metadata": {
      "needs_background": "light"
     },
     "output_type": "display_data"
    }
   ],
   "source": [
    "# (2) correlation matrix X ~ X\n",
    "\n",
    "plt.figure(figsize=(14, 8))\n",
    "\n",
    "# correlation heatmap\n",
    "sns.heatmap(x.corr(), annot=True, linewidth =1)\n",
    "\n",
    "plt.show() "
   ]
  },
  {
   "cell_type": "markdown",
   "id": "a4625a7c",
   "metadata": {},
   "source": [
    "# Feature Importance"
   ]
  },
  {
   "cell_type": "code",
   "execution_count": 26,
   "id": "f0fc24ec",
   "metadata": {},
   "outputs": [],
   "source": [
    "from sklearn.ensemble import ExtraTreesClassifier"
   ]
  },
  {
   "cell_type": "code",
   "execution_count": 27,
   "id": "250dd358",
   "metadata": {},
   "outputs": [],
   "source": [
    "etc=ExtraTreesClassifier()"
   ]
  },
  {
   "cell_type": "code",
   "execution_count": 28,
   "id": "376cdcab",
   "metadata": {},
   "outputs": [
    {
     "data": {
      "text/plain": [
       "ExtraTreesClassifier()"
      ]
     },
     "execution_count": 28,
     "metadata": {},
     "output_type": "execute_result"
    }
   ],
   "source": [
    "etc.fit(x,y)"
   ]
  },
  {
   "cell_type": "code",
   "execution_count": 29,
   "id": "ccc5985d",
   "metadata": {},
   "outputs": [
    {
     "data": {
      "text/plain": [
       "array([0.29212779, 0.00661103, 0.17543066, 0.18344841, 0.17604478,\n",
       "       0.09485522, 0.04441997, 0.0118891 , 0.00444718, 0.00467297,\n",
       "       0.00605288])"
      ]
     },
     "execution_count": 29,
     "metadata": {},
     "output_type": "execute_result"
    }
   ],
   "source": [
    "etc.feature_importances_"
   ]
  },
  {
   "cell_type": "code",
   "execution_count": 30,
   "id": "6acda57e",
   "metadata": {},
   "outputs": [
    {
     "data": {
      "text/plain": [
       "age            0.292128\n",
       "weight         0.183448\n",
       "ap_hi          0.176045\n",
       "height         0.175431\n",
       "ap_lo          0.094855\n",
       "cholesterol    0.044420\n",
       "gluc           0.011889\n",
       "gender         0.006611\n",
       "active         0.006053\n",
       "alco           0.004673\n",
       "smoke          0.004447\n",
       "dtype: float64"
      ]
     },
     "execution_count": 30,
     "metadata": {},
     "output_type": "execute_result"
    }
   ],
   "source": [
    "top_features=pd.Series(etc.feature_importances_, index= x.columns) \n",
    "\n",
    "top_features.nlargest(11)"
   ]
  },
  {
   "cell_type": "code",
   "execution_count": 31,
   "id": "75f2eefd",
   "metadata": {},
   "outputs": [
    {
     "data": {
      "text/plain": [
       "<AxesSubplot:>"
      ]
     },
     "execution_count": 31,
     "metadata": {},
     "output_type": "execute_result"
    },
    {
     "data": {
      "image/png": "[encoded data removed]",
      "text/plain": [
       "<Figure size 432x288 with 1 Axes>"
      ]
     },
     "metadata": {
      "needs_background": "light"
     },
     "output_type": "display_data"
    }
   ],
   "source": [
    "top_features.nlargest(11).plot(kind='barh')"
   ]
  },
  {
   "cell_type": "code",
   "execution_count": 32,
   "id": "8ef3293f",
   "metadata": {},
   "outputs": [],
   "source": [
    "x = x.apply(lambda x:(x - x.min())/(x.max() - x.min() ), axis= 0 )"
   ]
  },
  {
   "cell_type": "code",
   "execution_count": 33,
   "id": "84e88c98",
   "metadata": {},
   "outputs": [
    {
     "data": {
      "text/html": [
       "<div>\n",
       "<style scoped>\n",
       "    .dataframe tbody tr th:only-of-type {\n",
       "        vertical-align: middle;\n",
       "    }\n",
       "\n",
       "    .dataframe tbody tr th {\n",
       "        vertical-align: top;\n",
       "    }\n",
       "\n",
       "    .dataframe thead th {\n",
       "        text-align: right;\n",
       "    }\n",
       "</style>\n",
       "<table border=\"1\" class=\"dataframe\">\n",
       "  <thead>\n",
       "    <tr style=\"text-align: right;\">\n",
       "      <th></th>\n",
       "      <th>age</th>\n",
       "      <th>gender</th>\n",
       "      <th>height</th>\n",
       "      <th>weight</th>\n",
       "      <th>ap_hi</th>\n",
       "      <th>ap_lo</th>\n",
       "      <th>cholesterol</th>\n",
       "      <th>gluc</th>\n",
       "      <th>smoke</th>\n",
       "      <th>alco</th>\n",
       "      <th>active</th>\n",
       "    </tr>\n",
       "  </thead>\n",
       "  <tbody>\n",
       "    <tr>\n",
       "      <th>0</th>\n",
       "      <td>0.588076</td>\n",
       "      <td>1.0</td>\n",
       "      <td>0.579487</td>\n",
       "      <td>0.269841</td>\n",
       "      <td>0.471869</td>\n",
       "      <td>0.223214</td>\n",
       "      <td>0.0</td>\n",
       "      <td>0.0</td>\n",
       "      <td>0.0</td>\n",
       "      <td>0.0</td>\n",
       "      <td>1.0</td>\n",
       "    </tr>\n",
       "    <tr>\n",
       "      <th>1</th>\n",
       "      <td>0.730159</td>\n",
       "      <td>0.0</td>\n",
       "      <td>0.517949</td>\n",
       "      <td>0.391534</td>\n",
       "      <td>0.526316</td>\n",
       "      <td>0.238095</td>\n",
       "      <td>1.0</td>\n",
       "      <td>0.0</td>\n",
       "      <td>0.0</td>\n",
       "      <td>0.0</td>\n",
       "      <td>1.0</td>\n",
       "    </tr>\n",
       "    <tr>\n",
       "      <th>2</th>\n",
       "      <td>0.624003</td>\n",
       "      <td>0.0</td>\n",
       "      <td>0.564103</td>\n",
       "      <td>0.280423</td>\n",
       "      <td>0.508167</td>\n",
       "      <td>0.208333</td>\n",
       "      <td>1.0</td>\n",
       "      <td>0.0</td>\n",
       "      <td>0.0</td>\n",
       "      <td>0.0</td>\n",
       "      <td>0.0</td>\n",
       "    </tr>\n",
       "    <tr>\n",
       "      <th>3</th>\n",
       "      <td>0.528455</td>\n",
       "      <td>1.0</td>\n",
       "      <td>0.584615</td>\n",
       "      <td>0.375661</td>\n",
       "      <td>0.544465</td>\n",
       "      <td>0.252976</td>\n",
       "      <td>0.0</td>\n",
       "      <td>0.0</td>\n",
       "      <td>0.0</td>\n",
       "      <td>0.0</td>\n",
       "      <td>1.0</td>\n",
       "    </tr>\n",
       "    <tr>\n",
       "      <th>4</th>\n",
       "      <td>0.516918</td>\n",
       "      <td>0.0</td>\n",
       "      <td>0.517949</td>\n",
       "      <td>0.238095</td>\n",
       "      <td>0.453721</td>\n",
       "      <td>0.193452</td>\n",
       "      <td>0.0</td>\n",
       "      <td>0.0</td>\n",
       "      <td>0.0</td>\n",
       "      <td>0.0</td>\n",
       "      <td>0.0</td>\n",
       "    </tr>\n",
       "    <tr>\n",
       "      <th>...</th>\n",
       "      <td>...</td>\n",
       "      <td>...</td>\n",
       "      <td>...</td>\n",
       "      <td>...</td>\n",
       "      <td>...</td>\n",
       "      <td>...</td>\n",
       "      <td>...</td>\n",
       "      <td>...</td>\n",
       "      <td>...</td>\n",
       "      <td>...</td>\n",
       "      <td>...</td>\n",
       "    </tr>\n",
       "    <tr>\n",
       "      <th>69995</th>\n",
       "      <td>0.653659</td>\n",
       "      <td>1.0</td>\n",
       "      <td>0.579487</td>\n",
       "      <td>0.343915</td>\n",
       "      <td>0.490018</td>\n",
       "      <td>0.223214</td>\n",
       "      <td>0.0</td>\n",
       "      <td>0.0</td>\n",
       "      <td>1.0</td>\n",
       "      <td>0.0</td>\n",
       "      <td>1.0</td>\n",
       "    </tr>\n",
       "    <tr>\n",
       "      <th>69996</th>\n",
       "      <td>0.913899</td>\n",
       "      <td>0.0</td>\n",
       "      <td>0.528205</td>\n",
       "      <td>0.608466</td>\n",
       "      <td>0.526316</td>\n",
       "      <td>0.238095</td>\n",
       "      <td>0.5</td>\n",
       "      <td>0.5</td>\n",
       "      <td>0.0</td>\n",
       "      <td>0.0</td>\n",
       "      <td>1.0</td>\n",
       "    </tr>\n",
       "    <tr>\n",
       "      <th>69997</th>\n",
       "      <td>0.640186</td>\n",
       "      <td>1.0</td>\n",
       "      <td>0.656410</td>\n",
       "      <td>0.497354</td>\n",
       "      <td>0.598911</td>\n",
       "      <td>0.238095</td>\n",
       "      <td>1.0</td>\n",
       "      <td>0.0</td>\n",
       "      <td>0.0</td>\n",
       "      <td>1.0</td>\n",
       "      <td>0.0</td>\n",
       "    </tr>\n",
       "    <tr>\n",
       "      <th>69998</th>\n",
       "      <td>0.900736</td>\n",
       "      <td>0.0</td>\n",
       "      <td>0.553846</td>\n",
       "      <td>0.322751</td>\n",
       "      <td>0.517241</td>\n",
       "      <td>0.223214</td>\n",
       "      <td>0.0</td>\n",
       "      <td>0.5</td>\n",
       "      <td>0.0</td>\n",
       "      <td>0.0</td>\n",
       "      <td>0.0</td>\n",
       "    </tr>\n",
       "    <tr>\n",
       "      <th>69999</th>\n",
       "      <td>0.754317</td>\n",
       "      <td>0.0</td>\n",
       "      <td>0.589744</td>\n",
       "      <td>0.322751</td>\n",
       "      <td>0.490018</td>\n",
       "      <td>0.223214</td>\n",
       "      <td>0.5</td>\n",
       "      <td>0.0</td>\n",
       "      <td>0.0</td>\n",
       "      <td>0.0</td>\n",
       "      <td>1.0</td>\n",
       "    </tr>\n",
       "  </tbody>\n",
       "</table>\n",
       "<p>69011 rows × 11 columns</p>\n",
       "</div>"
      ],
      "text/plain": [
       "            age  gender    height    weight     ap_hi     ap_lo  cholesterol  \\\n",
       "0      0.588076     1.0  0.579487  0.269841  0.471869  0.223214          0.0   \n",
       "1      0.730159     0.0  0.517949  0.391534  0.526316  0.238095          1.0   \n",
       "2      0.624003     0.0  0.564103  0.280423  0.508167  0.208333          1.0   \n",
       "3      0.528455     1.0  0.584615  0.375661  0.544465  0.252976          0.0   \n",
       "4      0.516918     0.0  0.517949  0.238095  0.453721  0.193452          0.0   \n",
       "...         ...     ...       ...       ...       ...       ...          ...   \n",
       "69995  0.653659     1.0  0.579487  0.343915  0.490018  0.223214          0.0   \n",
       "69996  0.913899     0.0  0.528205  0.608466  0.526316  0.238095          0.5   \n",
       "69997  0.640186     1.0  0.656410  0.497354  0.598911  0.238095          1.0   \n",
       "69998  0.900736     0.0  0.553846  0.322751  0.517241  0.223214          0.0   \n",
       "69999  0.754317     0.0  0.589744  0.322751  0.490018  0.223214          0.5   \n",
       "\n",
       "       gluc  smoke  alco  active  \n",
       "0       0.0    0.0   0.0     1.0  \n",
       "1       0.0    0.0   0.0     1.0  \n",
       "2       0.0    0.0   0.0     0.0  \n",
       "3       0.0    0.0   0.0     1.0  \n",
       "4       0.0    0.0   0.0     0.0  \n",
       "...     ...    ...   ...     ...  \n",
       "69995   0.0    1.0   0.0     1.0  \n",
       "69996   0.5    0.0   0.0     1.0  \n",
       "69997   0.0    0.0   1.0     0.0  \n",
       "69998   0.5    0.0   0.0     0.0  \n",
       "69999   0.0    0.0   0.0     1.0  \n",
       "\n",
       "[69011 rows x 11 columns]"
      ]
     },
     "execution_count": 33,
     "metadata": {},
     "output_type": "execute_result"
    }
   ],
   "source": [
    "x"
   ]
  },
  {
   "cell_type": "code",
   "execution_count": 34,
   "id": "860245cb",
   "metadata": {},
   "outputs": [
    {
     "data": {
      "text/plain": [
       "0        0\n",
       "1        1\n",
       "2        1\n",
       "3        1\n",
       "4        0\n",
       "        ..\n",
       "69995    0\n",
       "69996    1\n",
       "69997    1\n",
       "69998    1\n",
       "69999    0\n",
       "Name: cardio, Length: 69011, dtype: int64"
      ]
     },
     "execution_count": 34,
     "metadata": {},
     "output_type": "execute_result"
    }
   ],
   "source": [
    "y"
   ]
  },
  {
   "cell_type": "code",
   "execution_count": 35,
   "id": "66dffc42",
   "metadata": {},
   "outputs": [],
   "source": [
    "from sklearn.model_selection import train_test_split"
   ]
  },
  {
   "cell_type": "code",
   "execution_count": 36,
   "id": "3e5d0b13",
   "metadata": {},
   "outputs": [],
   "source": [
    "xtrain,xtest,ytrain,ytest = train_test_split(x,y,test_size=.20,random_state=5)"
   ]
  },
  {
   "cell_type": "code",
   "execution_count": 37,
   "id": "b38123d5",
   "metadata": {},
   "outputs": [
    {
     "data": {
      "text/html": [
       "<div>\n",
       "<style scoped>\n",
       "    .dataframe tbody tr th:only-of-type {\n",
       "        vertical-align: middle;\n",
       "    }\n",
       "\n",
       "    .dataframe tbody tr th {\n",
       "        vertical-align: top;\n",
       "    }\n",
       "\n",
       "    .dataframe thead th {\n",
       "        text-align: right;\n",
       "    }\n",
       "</style>\n",
       "<table border=\"1\" class=\"dataframe\">\n",
       "  <thead>\n",
       "    <tr style=\"text-align: right;\">\n",
       "      <th></th>\n",
       "      <th>age</th>\n",
       "      <th>gender</th>\n",
       "      <th>height</th>\n",
       "      <th>weight</th>\n",
       "      <th>ap_hi</th>\n",
       "      <th>ap_lo</th>\n",
       "      <th>cholesterol</th>\n",
       "      <th>gluc</th>\n",
       "      <th>smoke</th>\n",
       "      <th>alco</th>\n",
       "      <th>active</th>\n",
       "    </tr>\n",
       "  </thead>\n",
       "  <tbody>\n",
       "    <tr>\n",
       "      <th>66286</th>\n",
       "      <td>0.751142</td>\n",
       "      <td>1.0</td>\n",
       "      <td>0.635897</td>\n",
       "      <td>0.396825</td>\n",
       "      <td>0.508167</td>\n",
       "      <td>0.238095</td>\n",
       "      <td>0.0</td>\n",
       "      <td>0.0</td>\n",
       "      <td>0.0</td>\n",
       "      <td>0.0</td>\n",
       "      <td>1.0</td>\n",
       "    </tr>\n",
       "    <tr>\n",
       "      <th>6232</th>\n",
       "      <td>0.818041</td>\n",
       "      <td>0.0</td>\n",
       "      <td>0.600000</td>\n",
       "      <td>0.365079</td>\n",
       "      <td>0.453721</td>\n",
       "      <td>0.208333</td>\n",
       "      <td>0.0</td>\n",
       "      <td>0.0</td>\n",
       "      <td>0.0</td>\n",
       "      <td>0.0</td>\n",
       "      <td>0.0</td>\n",
       "    </tr>\n",
       "    <tr>\n",
       "      <th>56783</th>\n",
       "      <td>0.560279</td>\n",
       "      <td>0.0</td>\n",
       "      <td>0.497436</td>\n",
       "      <td>0.238095</td>\n",
       "      <td>0.453721</td>\n",
       "      <td>0.193452</td>\n",
       "      <td>0.0</td>\n",
       "      <td>1.0</td>\n",
       "      <td>0.0</td>\n",
       "      <td>0.0</td>\n",
       "      <td>1.0</td>\n",
       "    </tr>\n",
       "    <tr>\n",
       "      <th>5463</th>\n",
       "      <td>0.510569</td>\n",
       "      <td>1.0</td>\n",
       "      <td>0.558974</td>\n",
       "      <td>0.275132</td>\n",
       "      <td>0.471869</td>\n",
       "      <td>0.208333</td>\n",
       "      <td>0.0</td>\n",
       "      <td>0.0</td>\n",
       "      <td>0.0</td>\n",
       "      <td>0.0</td>\n",
       "      <td>1.0</td>\n",
       "    </tr>\n",
       "    <tr>\n",
       "      <th>39667</th>\n",
       "      <td>0.394193</td>\n",
       "      <td>0.0</td>\n",
       "      <td>0.533333</td>\n",
       "      <td>0.259259</td>\n",
       "      <td>0.526316</td>\n",
       "      <td>0.238095</td>\n",
       "      <td>0.0</td>\n",
       "      <td>0.0</td>\n",
       "      <td>0.0</td>\n",
       "      <td>0.0</td>\n",
       "      <td>1.0</td>\n",
       "    </tr>\n",
       "    <tr>\n",
       "      <th>...</th>\n",
       "      <td>...</td>\n",
       "      <td>...</td>\n",
       "      <td>...</td>\n",
       "      <td>...</td>\n",
       "      <td>...</td>\n",
       "      <td>...</td>\n",
       "      <td>...</td>\n",
       "      <td>...</td>\n",
       "      <td>...</td>\n",
       "      <td>...</td>\n",
       "      <td>...</td>\n",
       "    </tr>\n",
       "    <tr>\n",
       "      <th>60310</th>\n",
       "      <td>0.635463</td>\n",
       "      <td>0.0</td>\n",
       "      <td>0.569231</td>\n",
       "      <td>0.253968</td>\n",
       "      <td>0.435572</td>\n",
       "      <td>0.193452</td>\n",
       "      <td>1.0</td>\n",
       "      <td>1.0</td>\n",
       "      <td>0.0</td>\n",
       "      <td>0.0</td>\n",
       "      <td>1.0</td>\n",
       "    </tr>\n",
       "    <tr>\n",
       "      <th>5599</th>\n",
       "      <td>0.567480</td>\n",
       "      <td>0.0</td>\n",
       "      <td>0.615385</td>\n",
       "      <td>0.391534</td>\n",
       "      <td>0.490018</td>\n",
       "      <td>0.223214</td>\n",
       "      <td>0.0</td>\n",
       "      <td>0.0</td>\n",
       "      <td>0.0</td>\n",
       "      <td>1.0</td>\n",
       "      <td>1.0</td>\n",
       "    </tr>\n",
       "    <tr>\n",
       "      <th>20758</th>\n",
       "      <td>0.530159</td>\n",
       "      <td>1.0</td>\n",
       "      <td>0.589744</td>\n",
       "      <td>0.502646</td>\n",
       "      <td>0.490018</td>\n",
       "      <td>0.223214</td>\n",
       "      <td>0.0</td>\n",
       "      <td>0.5</td>\n",
       "      <td>0.0</td>\n",
       "      <td>0.0</td>\n",
       "      <td>1.0</td>\n",
       "    </tr>\n",
       "    <tr>\n",
       "      <th>18908</th>\n",
       "      <td>0.920093</td>\n",
       "      <td>0.0</td>\n",
       "      <td>0.528205</td>\n",
       "      <td>0.306878</td>\n",
       "      <td>0.544465</td>\n",
       "      <td>0.208333</td>\n",
       "      <td>0.0</td>\n",
       "      <td>0.0</td>\n",
       "      <td>0.0</td>\n",
       "      <td>0.0</td>\n",
       "      <td>1.0</td>\n",
       "    </tr>\n",
       "    <tr>\n",
       "      <th>36195</th>\n",
       "      <td>0.473248</td>\n",
       "      <td>0.0</td>\n",
       "      <td>0.584615</td>\n",
       "      <td>0.328042</td>\n",
       "      <td>0.490018</td>\n",
       "      <td>0.223214</td>\n",
       "      <td>0.0</td>\n",
       "      <td>0.0</td>\n",
       "      <td>0.0</td>\n",
       "      <td>0.0</td>\n",
       "      <td>1.0</td>\n",
       "    </tr>\n",
       "  </tbody>\n",
       "</table>\n",
       "<p>55208 rows × 11 columns</p>\n",
       "</div>"
      ],
      "text/plain": [
       "            age  gender    height    weight     ap_hi     ap_lo  cholesterol  \\\n",
       "66286  0.751142     1.0  0.635897  0.396825  0.508167  0.238095          0.0   \n",
       "6232   0.818041     0.0  0.600000  0.365079  0.453721  0.208333          0.0   \n",
       "56783  0.560279     0.0  0.497436  0.238095  0.453721  0.193452          0.0   \n",
       "5463   0.510569     1.0  0.558974  0.275132  0.471869  0.208333          0.0   \n",
       "39667  0.394193     0.0  0.533333  0.259259  0.526316  0.238095          0.0   \n",
       "...         ...     ...       ...       ...       ...       ...          ...   \n",
       "60310  0.635463     0.0  0.569231  0.253968  0.435572  0.193452          1.0   \n",
       "5599   0.567480     0.0  0.615385  0.391534  0.490018  0.223214          0.0   \n",
       "20758  0.530159     1.0  0.589744  0.502646  0.490018  0.223214          0.0   \n",
       "18908  0.920093     0.0  0.528205  0.306878  0.544465  0.208333          0.0   \n",
       "36195  0.473248     0.0  0.584615  0.328042  0.490018  0.223214          0.0   \n",
       "\n",
       "       gluc  smoke  alco  active  \n",
       "66286   0.0    0.0   0.0     1.0  \n",
       "6232    0.0    0.0   0.0     0.0  \n",
       "56783   1.0    0.0   0.0     1.0  \n",
       "5463    0.0    0.0   0.0     1.0  \n",
       "39667   0.0    0.0   0.0     1.0  \n",
       "...     ...    ...   ...     ...  \n",
       "60310   1.0    0.0   0.0     1.0  \n",
       "5599    0.0    0.0   1.0     1.0  \n",
       "20758   0.5    0.0   0.0     1.0  \n",
       "18908   0.0    0.0   0.0     1.0  \n",
       "36195   0.0    0.0   0.0     1.0  \n",
       "\n",
       "[55208 rows x 11 columns]"
      ]
     },
     "execution_count": 37,
     "metadata": {},
     "output_type": "execute_result"
    }
   ],
   "source": [
    "xtrain"
   ]
  },
  {
   "cell_type": "markdown",
   "id": "22ba8f12",
   "metadata": {},
   "source": [
    "# Machine Learning Algorithms"
   ]
  },
  {
   "cell_type": "code",
   "execution_count": 38,
   "id": "6d2ee720",
   "metadata": {},
   "outputs": [],
   "source": [
    "\n",
    "\n",
    "def report_heatmap(y_pred):\n",
    "    \"\"\"\n",
    "    print report and plot the confusion matrix\n",
    "    \n",
    "    parameters: y_pred, a list of predicted labels\n",
    "    \n",
    "    return: None\n",
    "    \n",
    "    \n",
    "    \"\"\"\n",
    "    # overall accuracy \n",
    "    acc = accuracy_score(ytest, y_pred)\n",
    "    print( f'Overall Accuracy: {acc*100:.2f}%' )\n",
    "    print(\"--------------------------\")    \n",
    "    \n",
    "    # report\n",
    "    print(classification_report(ytest, y_pred))\n",
    "   \n",
    "    # confusion matrix\n",
    "    cm = confusion_matrix(ytest, y_pred)\n",
    "\n",
    "    # Confusion Matrix Heatmap\n",
    "    labels = [\"0\", \"1\"]\n",
    "    plt.figure(1, figsize=(8, 5))\n",
    "\n",
    "    plt.title(\"Confusion Matrix\")\n",
    "\n",
    "    sns.set(font_scale=1.4)\n",
    "    ax = sns.heatmap(cm, annot=True, cmap=\"YlGnBu\", cbar_kws={'label': 'Scale'}) # Yellow + Green + Blue\n",
    "\n",
    "    ax.set_xticklabels(labels)\n",
    "    ax.set_yticklabels(labels)\n",
    "\n",
    "    ax.set(ylabel=\"True Label\", xlabel=\"Predicted Label\")\n",
    "\n",
    "    plt.show( )\n",
    "\n",
    "\n"
   ]
  },
  {
   "cell_type": "markdown",
   "id": "0ef32d0d",
   "metadata": {},
   "source": [
    "## Model 1: Random Forest Classification"
   ]
  },
  {
   "cell_type": "code",
   "execution_count": 39,
   "id": "19f96aef",
   "metadata": {},
   "outputs": [],
   "source": [
    "from sklearn.ensemble import RandomForestClassifier"
   ]
  },
  {
   "cell_type": "code",
   "execution_count": 40,
   "id": "efb27284",
   "metadata": {},
   "outputs": [],
   "source": [
    "rfcf = RandomForestClassifier(random_state=42)"
   ]
  },
  {
   "cell_type": "code",
   "execution_count": 41,
   "id": "159969ba",
   "metadata": {},
   "outputs": [
    {
     "data": {
      "text/plain": [
       "RandomForestClassifier(random_state=42)"
      ]
     },
     "execution_count": 41,
     "metadata": {},
     "output_type": "execute_result"
    }
   ],
   "source": [
    "rfcf.fit(xtrain,ytrain)"
   ]
  },
  {
   "cell_type": "code",
   "execution_count": 42,
   "id": "39cb241a",
   "metadata": {},
   "outputs": [
    {
     "data": {
      "text/plain": [
       "0.7144823589074839"
      ]
     },
     "execution_count": 42,
     "metadata": {},
     "output_type": "execute_result"
    }
   ],
   "source": [
    "rfcf.score(xtest,ytest)"
   ]
  },
  {
   "cell_type": "code",
   "execution_count": 43,
   "id": "b6c8f623",
   "metadata": {},
   "outputs": [],
   "source": [
    "#Parameter Tuning of RFC\n",
    "params ={\n",
    "    \n",
    "    'n_estimators': [x for x in range(1, 10) ],  \n",
    "    'max_depth':    [x for x in range(1, 4)],  \n",
    "    'min_samples_split': [2, 5, 8],\n",
    "    'min_samples_leaf':  [1, 2, 4], \n",
    "}\n",
    "rfc = GridSearchCV(estimator=rfcf, \n",
    "                          param_grid=params, \n",
    "                          cv=3, verbose=2, n_jobs=-1)"
   ]
  },
  {
   "cell_type": "code",
   "execution_count": 44,
   "id": "ed67eb5f",
   "metadata": {},
   "outputs": [
    {
     "name": "stdout",
     "output_type": "stream",
     "text": [
      "Fitting 3 folds for each of 243 candidates, totalling 729 fits\n",
      "\n",
      "RFC best parameters: \n"
     ]
    },
    {
     "data": {
      "text/plain": [
       "{'max_depth': 3,\n",
       " 'min_samples_leaf': 1,\n",
       " 'min_samples_split': 2,\n",
       " 'n_estimators': 9}"
      ]
     },
     "metadata": {},
     "output_type": "display_data"
    },
    {
     "name": "stdout",
     "output_type": "stream",
     "text": [
      "RFC best score: 0.7217612504953931\n"
     ]
    }
   ],
   "source": [
    "rfc.fit(xtrain,ytrain)\n",
    "\n",
    "print(\"\\nRFC best parameters: \")\n",
    "display(rfc.best_params_)\n",
    "\n",
    "print(\"RFC best score: \" + str(rfc.best_score_))"
   ]
  },
  {
   "cell_type": "code",
   "execution_count": 45,
   "id": "3cfce529",
   "metadata": {},
   "outputs": [
    {
     "name": "stdout",
     "output_type": "stream",
     "text": [
      "Best forest model accuracy:0.724\n"
     ]
    }
   ],
   "source": [
    "# best rfc: copy the parameters above \n",
    "rfc_best = RandomForestClassifier( n_estimators = 7,\n",
    " min_samples_split = 2,\n",
    " min_samples_leaf = 1,\n",
    " max_depth = 3, \n",
    " random_state = 42)\n",
    "\n",
    "# train\n",
    "rfc_best.fit(xtrain,ytrain)\n",
    "\n",
    "# accuracy for testing    \n",
    "y_pred = rfc_best.predict(xtest)\n",
    "acc = accuracy_score(y_pred, ytest)\n",
    "print(f\"Best forest model accuracy:{acc:0.3f}\")\n"
   ]
  },
  {
   "cell_type": "code",
   "execution_count": 46,
   "id": "6c7ae4b1",
   "metadata": {},
   "outputs": [
    {
     "name": "stdout",
     "output_type": "stream",
     "text": [
      "Training Accu, 0.723\n",
      "Testing Accu, 0.724\n"
     ]
    }
   ],
   "source": [
    "# overfit or not: Compare with Training\n",
    "\n",
    "# accuracy for training\n",
    "y_pred_1 = rfc_best.predict(xtrain)\n",
    "acc_1 = accuracy_score(y_pred_1, ytrain)\n",
    "print(f\"Training Accu, {acc_1:.3f}\")\n",
    "\n",
    "# for testing\n",
    "y_pred_2 = rfc_best.predict(xtest)\n",
    "acc_2 = accuracy_score(y_pred_2, ytest)\n",
    "print(f\"Testing Accu, {acc_2:.3f}\"  )\n",
    "\n",
    "\n"
   ]
  },
  {
   "cell_type": "code",
   "execution_count": 47,
   "id": "0af2568e",
   "metadata": {},
   "outputs": [
    {
     "name": "stdout",
     "output_type": "stream",
     "text": [
      "Overall Accuracy: 72.45%\n",
      "--------------------------\n",
      "              precision    recall  f1-score   support\n",
      "\n",
      "           0       0.71      0.78      0.74      6978\n",
      "           1       0.75      0.67      0.71      6825\n",
      "\n",
      "    accuracy                           0.72     13803\n",
      "   macro avg       0.73      0.72      0.72     13803\n",
      "weighted avg       0.73      0.72      0.72     13803\n",
      "\n"
     ]
    },
    {
     "data": {
      "image/png": "[encoded data removed]",
      "text/plain": [
       "<Figure size 576x360 with 2 Axes>"
      ]
     },
     "metadata": {
      "needs_background": "light"
     },
     "output_type": "display_data"
    }
   ],
   "source": [
    "# Model 3: Random Forest Report\n",
    "y_pred = rfc_best.predict(xtest)\n",
    "rfc_acc = accuracy_score(ytest, y_pred) \n",
    "\n",
    "\n",
    "# report and heatmap\n",
    "report_heatmap(y_pred)"
   ]
  },
  {
   "cell_type": "markdown",
   "id": "c8568902",
   "metadata": {},
   "source": [
    "## Model 2: Decision Tree Classification"
   ]
  },
  {
   "cell_type": "code",
   "execution_count": 48,
   "id": "95718746",
   "metadata": {},
   "outputs": [],
   "source": [
    "from sklearn.tree import DecisionTreeClassifier"
   ]
  },
  {
   "cell_type": "code",
   "execution_count": 49,
   "id": "9afea569",
   "metadata": {},
   "outputs": [],
   "source": [
    "dc=DecisionTreeClassifier(max_depth=3)"
   ]
  },
  {
   "cell_type": "code",
   "execution_count": 50,
   "id": "e3c5ee78",
   "metadata": {},
   "outputs": [
    {
     "data": {
      "text/plain": [
       "0.7254944577265812"
      ]
     },
     "execution_count": 50,
     "metadata": {},
     "output_type": "execute_result"
    }
   ],
   "source": [
    "dc.fit(xtrain,ytrain)\n",
    "dc.score(xtest,ytest)"
   ]
  },
  {
   "cell_type": "code",
   "execution_count": 51,
   "id": "dd760512",
   "metadata": {},
   "outputs": [
    {
     "data": {
      "image/png": "[encoded data removed]",
      "text/plain": [
       "<Figure size 720x360 with 1 Axes>"
      ]
     },
     "metadata": {},
     "output_type": "display_data"
    },
    {
     "name": "stdout",
     "output_type": "stream",
     "text": [
      "The best d is 5 and the highest accuracy 0.7324494675070636\n"
     ]
    }
   ],
   "source": [
    "#Parameter Tuning of DTC\n",
    "\n",
    "\n",
    "test_score = []\n",
    "train_score = [ ]\n",
    "\n",
    "# parameter tuning: loop the max_depth in DecisionTreeClassifier(max_depth)\n",
    "for depth in range(1, 10):\n",
    "    # train Tree model\n",
    "    dt = DecisionTreeClassifier(max_depth=depth)\n",
    "    dt.fit(xtrain, ytrain)\n",
    "\n",
    "    # test accuracy\n",
    "    y_pred = dt.predict(xtest)\n",
    "    test_score.append(accuracy_score(ytest, y_pred) )\n",
    "    \n",
    "    # train accuracy\n",
    "    y_pred = dt.predict(xtrain)\n",
    "    train_score.append(accuracy_score(ytrain, y_pred) )\n",
    "                      \n",
    "                      \n",
    "# plot \n",
    "x = range(1, 10)\n",
    "plt.figure(figsize=[10, 5])\n",
    "plt.plot(x, test_score,  label='Testing')\n",
    "plt.plot(x, train_score, label='Trainning')\n",
    "plt.legend()                       \n",
    "plt.show()\n",
    "\n",
    "# find best k\n",
    "best_d = np.array(test_score).argmax() + 1 # as we had the list index starting 0.\n",
    "print(f\"The best d is {best_d} and the highest accuracy {max(test_score)}\") "
   ]
  },
  {
   "cell_type": "code",
   "execution_count": 52,
   "id": "c78d2a18",
   "metadata": {},
   "outputs": [
    {
     "name": "stdout",
     "output_type": "stream",
     "text": [
      "Overall Accuracy: 73.24%\n",
      "--------------------------\n",
      "              precision    recall  f1-score   support\n",
      "\n",
      "           0       0.71      0.79      0.75      6978\n",
      "           1       0.76      0.67      0.71      6825\n",
      "\n",
      "    accuracy                           0.73     13803\n",
      "   macro avg       0.74      0.73      0.73     13803\n",
      "weighted avg       0.74      0.73      0.73     13803\n",
      "\n"
     ]
    },
    {
     "data": {
      "image/png": "[encoded data removed]",
      "text/plain": [
       "<Figure size 576x360 with 2 Axes>"
      ]
     },
     "metadata": {},
     "output_type": "display_data"
    }
   ],
   "source": [
    "# use the best depth 5 to retrain the Decision Tree\n",
    "dt_best = DecisionTreeClassifier(max_depth=5)\n",
    "dt_best.fit(xtrain, ytrain)\n",
    "\n",
    "\n",
    "# Report and heatmap\n",
    "y_pred = dt_best.predict(xtest)\n",
    "dt_acc = accuracy_score(ytest, y_pred) \n",
    "\n",
    "report_heatmap( y_pred )"
   ]
  },
  {
   "cell_type": "markdown",
   "id": "fd146c3f",
   "metadata": {},
   "source": [
    "## Model 3: Logistic Regression "
   ]
  },
  {
   "cell_type": "code",
   "execution_count": 53,
   "id": "a587909a",
   "metadata": {},
   "outputs": [
    {
     "data": {
      "text/plain": [
       "0.7308556110990364"
      ]
     },
     "execution_count": 53,
     "metadata": {},
     "output_type": "execute_result"
    }
   ],
   "source": [
    "from sklearn.linear_model import LogisticRegression\n",
    "logreg = LogisticRegression(C=1e5)\n",
    "logreg.fit(xtrain,ytrain)\n",
    "logreg.score(xtest,ytest)"
   ]
  },
  {
   "cell_type": "code",
   "execution_count": 54,
   "id": "aafa09c1",
   "metadata": {},
   "outputs": [],
   "source": [
    "#Parameter Tuning of LR\n",
    "params ={\n",
    "    \n",
    "    'penalty': ['l1','l2'],  \n",
    "    'C':    np.logspace(-4,4,20),  \n",
    "    'solver': ['lbfgs','liblinear'],\n",
    "    'max_iter':  [50, 100], \n",
    "}\n",
    "lr = GridSearchCV(estimator=logreg, \n",
    "                          param_grid=params, \n",
    "                          cv=3, verbose=2, n_jobs=-1)\n"
   ]
  },
  {
   "cell_type": "code",
   "execution_count": 55,
   "id": "cd4324a9",
   "metadata": {},
   "outputs": [
    {
     "name": "stdout",
     "output_type": "stream",
     "text": [
      "Fitting 3 folds for each of 160 candidates, totalling 480 fits\n"
     ]
    },
    {
     "name": "stderr",
     "output_type": "stream",
     "text": [
      "/Users/wuchengying/opt/anaconda3/lib/python3.8/site-packages/sklearn/model_selection/_search.py:918: UserWarning: One or more of the test scores are non-finite: [       nan 0.50501739 0.59480503 0.59936962        nan 0.50501739\n",
      " 0.59480503 0.59936962        nan 0.50501739 0.60478542 0.60166999\n",
      "        nan 0.50501739 0.60478542 0.60166999        nan 0.50501739\n",
      " 0.61424062 0.60368057        nan 0.50501739 0.61424062 0.60368057\n",
      "        nan 0.59197936 0.63226338 0.62079769        nan 0.59197936\n",
      " 0.63226338 0.62079769        nan 0.62749958 0.64391025 0.63646569\n",
      "        nan 0.62749958 0.64391025 0.63646569        nan 0.69361317\n",
      " 0.65617296 0.64963408        nan 0.6937762  0.65617296 0.64963408\n",
      "        nan 0.7180299  0.67348929 0.66852622        nan 0.71815669\n",
      " 0.67348929 0.66852622        nan 0.72259443 0.69430146 0.68953766\n",
      "        nan 0.72273934 0.69433769 0.68953766        nan 0.72380803\n",
      " 0.71147289 0.70853855        nan 0.72373558 0.71143667 0.70853855\n",
      "        nan 0.72435144 0.72029405 0.71911672        nan 0.72422465\n",
      " 0.72040273 0.71911672        nan 0.72455069 0.72315596 0.72244954\n",
      "        nan 0.72449635 0.72310163 0.72244954        nan 0.72455069\n",
      " 0.72400727 0.72413409        nan 0.72458692 0.72431521 0.72413409\n",
      "        nan 0.72462315 0.72424275 0.72446012        nan 0.72462315\n",
      " 0.72453257 0.72446012        nan 0.72471371 0.7245688  0.72458692\n",
      "        nan 0.72467748 0.72464126 0.72458692        nan 0.72478616\n",
      " 0.72455069 0.72462315        nan 0.72465937 0.72455069 0.72462315\n",
      "        nan 0.7248405  0.72449635 0.72464126        nan 0.72465937\n",
      " 0.72455069 0.72464126        nan 0.72476805 0.72480427 0.7246956\n",
      "        nan 0.72467748 0.72462315 0.7246956         nan 0.72480428\n",
      " 0.72460502 0.72464126        nan 0.72465937 0.72462314 0.72464126\n",
      "        nan 0.72464126 0.72473181 0.72465937        nan 0.72467748\n",
      " 0.72460503 0.72465937        nan 0.72451447 0.72482238 0.72465937\n",
      "        nan 0.72467748 0.72467748 0.72465937]\n",
      "  warnings.warn(\n"
     ]
    },
    {
     "name": "stdout",
     "output_type": "stream",
     "text": [
      "\n",
      "LR best parameters: \n"
     ]
    },
    {
     "name": "stderr",
     "output_type": "stream",
     "text": [
      "/Users/wuchengying/opt/anaconda3/lib/python3.8/site-packages/sklearn/svm/_base.py:985: ConvergenceWarning: Liblinear failed to converge, increase the number of iterations.\n",
      "  warnings.warn(\"Liblinear failed to converge, increase \"\n"
     ]
    },
    {
     "data": {
      "text/plain": [
       "{'C': 206.913808111479, 'max_iter': 50, 'penalty': 'l1', 'solver': 'liblinear'}"
      ]
     },
     "metadata": {},
     "output_type": "display_data"
    },
    {
     "name": "stdout",
     "output_type": "stream",
     "text": [
      "RFC best score: 0.7248405048573666\n"
     ]
    }
   ],
   "source": [
    "lr.fit(xtrain,ytrain)\n",
    "\n",
    "print(\"\\nLR best parameters: \")\n",
    "display(lr.best_params_)\n",
    "\n",
    "print(\"RFC best score: \" + str(lr.best_score_))"
   ]
  },
  {
   "cell_type": "code",
   "execution_count": 56,
   "id": "fca488d2",
   "metadata": {},
   "outputs": [
    {
     "name": "stderr",
     "output_type": "stream",
     "text": [
      "/Users/wuchengying/opt/anaconda3/lib/python3.8/site-packages/sklearn/svm/_base.py:985: ConvergenceWarning: Liblinear failed to converge, increase the number of iterations.\n",
      "  warnings.warn(\"Liblinear failed to converge, increase \"\n"
     ]
    },
    {
     "name": "stdout",
     "output_type": "stream",
     "text": [
      "Overall Accuracy: 72.98%\n",
      "--------------------------\n",
      "              precision    recall  f1-score   support\n",
      "\n",
      "           0       0.71      0.78      0.75      6978\n",
      "           1       0.75      0.68      0.71      6825\n",
      "\n",
      "    accuracy                           0.73     13803\n",
      "   macro avg       0.73      0.73      0.73     13803\n",
      "weighted avg       0.73      0.73      0.73     13803\n",
      "\n"
     ]
    },
    {
     "data": {
      "image/png": "[encoded data removed]",
      "text/plain": [
       "<Figure size 576x360 with 2 Axes>"
      ]
     },
     "metadata": {},
     "output_type": "display_data"
    }
   ],
   "source": [
    "lr_best = LogisticRegression(\n",
    "    C=1438.44988828766,\n",
    "    max_iter=50,\n",
    "    solver=\"liblinear\",\n",
    "    penalty=\"l1\"\n",
    ")\n",
    "lr_best.fit(xtrain, ytrain)\n",
    "\n",
    "\n",
    "# Report and heatmap\n",
    "y_pred = lr_best.predict(xtest)\n",
    "lr_acc = accuracy_score(ytest, y_pred) \n",
    "\n",
    "report_heatmap( y_pred )"
   ]
  },
  {
   "cell_type": "markdown",
   "id": "5110ada1",
   "metadata": {},
   "source": [
    "## Model 4: Neural Networks-Multy Layer Perceptron"
   ]
  },
  {
   "cell_type": "code",
   "execution_count": 57,
   "id": "420d87c7",
   "metadata": {},
   "outputs": [
    {
     "data": {
      "text/plain": [
       "0.7252046656523944"
      ]
     },
     "execution_count": 57,
     "metadata": {},
     "output_type": "execute_result"
    }
   ],
   "source": [
    "#Multy Layer Perceptron Classifier\n",
    "from sklearn.neural_network import MLPClassifier\n",
    "mlp = MLPClassifier(\n",
    "    activation=\"relu\",\n",
    "    hidden_layer_sizes={200,300},\n",
    "    solver=\"adam\",\n",
    "    learning_rate_init=0.01,\n",
    "    random_state=300\n",
    ")\n",
    "\n",
    "mlp.fit(xtrain, ytrain)\n",
    "mlp.score(xtest,ytest)"
   ]
  },
  {
   "cell_type": "code",
   "execution_count": 58,
   "id": "f8cb1f0d",
   "metadata": {},
   "outputs": [],
   "source": [
    "#Parameter Tuning of MLP\n",
    "params ={\n",
    "    'activation': ['logistic','tanh','relu'],  \n",
    "    'hidden_layer_sizes':[(20,30),(25,)],  \n",
    "    'solver': ['adam','sgd'],\n",
    "    'learning_rate_init':  [0.01, 0.1], \n",
    "}\n",
    "mlpc = GridSearchCV(estimator=mlp, \n",
    "                          param_grid=params, \n",
    "                          cv=3, verbose=2, n_jobs=-1)\n"
   ]
  },
  {
   "cell_type": "code",
   "execution_count": 59,
   "id": "9a097730",
   "metadata": {},
   "outputs": [
    {
     "name": "stdout",
     "output_type": "stream",
     "text": [
      "Fitting 3 folds for each of 24 candidates, totalling 72 fits\n"
     ]
    },
    {
     "data": {
      "text/plain": [
       "{'activation': 'tanh',\n",
       " 'hidden_layer_sizes': (20, 30),\n",
       " 'learning_rate_init': 0.01,\n",
       " 'solver': 'sgd'}"
      ]
     },
     "metadata": {},
     "output_type": "display_data"
    },
    {
     "name": "stdout",
     "output_type": "stream",
     "text": [
      "mlpc best score: 0.7283543676001928\n"
     ]
    }
   ],
   "source": [
    "mlpc.fit(xtrain,ytrain)\n",
    "display(mlpc.best_params_)\n",
    "print(\"mlpc best score: \" + str(mlpc.best_score_))"
   ]
  },
  {
   "cell_type": "code",
   "execution_count": 60,
   "id": "5b47c4cd",
   "metadata": {},
   "outputs": [
    {
     "name": "stdout",
     "output_type": "stream",
     "text": [
      "Overall Accuracy: 73.72%\n",
      "--------------------------\n",
      "              precision    recall  f1-score   support\n",
      "\n",
      "           0       0.73      0.76      0.75      6978\n",
      "           1       0.75      0.71      0.73      6825\n",
      "\n",
      "    accuracy                           0.74     13803\n",
      "   macro avg       0.74      0.74      0.74     13803\n",
      "weighted avg       0.74      0.74      0.74     13803\n",
      "\n"
     ]
    },
    {
     "data": {
      "image/png": "[encoded data removed]",
      "text/plain": [
       "<Figure size 576x360 with 2 Axes>"
      ]
     },
     "metadata": {},
     "output_type": "display_data"
    }
   ],
   "source": [
    "mlpc_best = MLPClassifier(\n",
    "    activation=\"relu\",\n",
    "    hidden_layer_sizes={20,30},\n",
    "    solver=\"adam\",\n",
    "    learning_rate_init=0.01,\n",
    "    random_state=300\n",
    ")\n",
    "mlpc_best.fit(xtrain, ytrain)\n",
    "\n",
    "\n",
    "# Report and heatmap\n",
    "y_pred = mlpc_best.predict(xtest)\n",
    "mlpc_acc = accuracy_score(ytest, y_pred) \n",
    "\n",
    "report_heatmap( y_pred )"
   ]
  },
  {
   "cell_type": "code",
   "execution_count": 61,
   "id": "179677e7",
   "metadata": {},
   "outputs": [],
   "source": [
    "import tensorflow as tf\n",
    "from tensorflow import keras "
   ]
  },
  {
   "cell_type": "markdown",
   "id": "4168847e",
   "metadata": {},
   "source": [
    "## Model 5: Neural Networks:Sequential API"
   ]
  },
  {
   "cell_type": "code",
   "execution_count": 62,
   "id": "344263de",
   "metadata": {},
   "outputs": [
    {
     "name": "stdout",
     "output_type": "stream",
     "text": [
      "Epoch 1/10\n",
      "1726/1726 [==============================] - 2s 777us/step - loss: 0.6879 - accuracy: 0.5642\n",
      "Epoch 2/10\n",
      "1726/1726 [==============================] - 1s 763us/step - loss: 0.6518 - accuracy: 0.6190\n",
      "Epoch 3/10\n",
      "1726/1726 [==============================] - 1s 777us/step - loss: 0.6443 - accuracy: 0.6307\n",
      "Epoch 4/10\n",
      "1726/1726 [==============================] - 1s 782us/step - loss: 0.6400 - accuracy: 0.6364\n",
      "Epoch 5/10\n",
      "1726/1726 [==============================] - 1s 816us/step - loss: 0.6366 - accuracy: 0.6408\n",
      "Epoch 6/10\n",
      "1726/1726 [==============================] - 1s 782us/step - loss: 0.6338 - accuracy: 0.6443\n",
      "Epoch 7/10\n",
      "1726/1726 [==============================] - 2s 1ms/step - loss: 0.6314 - accuracy: 0.6471\n",
      "Epoch 8/10\n",
      "1726/1726 [==============================] - 2s 883us/step - loss: 0.6292 - accuracy: 0.6511\n",
      "Epoch 9/10\n",
      "1726/1726 [==============================] - 2s 900us/step - loss: 0.6273 - accuracy: 0.6527\n",
      "Epoch 10/10\n",
      "1726/1726 [==============================] - 1s 835us/step - loss: 0.6254 - accuracy: 0.6557\n"
     ]
    },
    {
     "data": {
      "text/plain": [
       "<keras.callbacks.History at 0x7fc899885eb0>"
      ]
     },
     "execution_count": 62,
     "metadata": {},
     "output_type": "execute_result"
    }
   ],
   "source": [
    "model = keras.Sequential([\n",
    "    keras.layers.Dense(2,input_shape=(11,),activation='sigmoid')\n",
    "])\n",
    "model.compile(\n",
    "    optimizer='adam',\n",
    "    loss='sparse_categorical_crossentropy',\n",
    "    metrics=['accuracy']\n",
    ")\n",
    "model.fit(xtrain,ytrain, epochs=10)\n"
   ]
  },
  {
   "cell_type": "code",
   "execution_count": 63,
   "id": "9d2b3964",
   "metadata": {},
   "outputs": [
    {
     "name": "stdout",
     "output_type": "stream",
     "text": [
      "216/216 [==============================] - 0s 592us/step\n",
      "              precision    recall  f1-score   support\n",
      "\n",
      "           0       0.66      0.67      0.66      6978\n",
      "           1       0.66      0.64      0.65      6825\n",
      "\n",
      "    accuracy                           0.66     13803\n",
      "   macro avg       0.66      0.66      0.66     13803\n",
      "weighted avg       0.66      0.66      0.66     13803\n",
      "\n"
     ]
    }
   ],
   "source": [
    "y_pred = model.predict(xtest, batch_size=64, verbose=1)\n",
    "y_pred_bool = np.argmax(y_pred, axis=1)\n",
    "print(classification_report(ytest, y_pred_bool))"
   ]
  },
  {
   "cell_type": "code",
   "execution_count": 64,
   "id": "89b5a4c6",
   "metadata": {},
   "outputs": [
    {
     "name": "stdout",
     "output_type": "stream",
     "text": [
      "432/432 [==============================] - 1s 728us/step - loss: 0.6246 - accuracy: 0.6563\n",
      "Test loss: 0.6246126890182495\n",
      "Test accuracy: 0.6563066244125366\n"
     ]
    }
   ],
   "source": [
    "score = model.evaluate(xtest, ytest, verbose=1)\n",
    "print('Test loss:', score[0])\n",
    "print('Test accuracy:', score[1])\n",
    "dnn_accr=score[1]\n",
    "#print(accr)"
   ]
  },
  {
   "cell_type": "markdown",
   "id": "35e4d775",
   "metadata": {},
   "source": [
    "## Model 6: K-Nearest Neighbor"
   ]
  },
  {
   "cell_type": "code",
   "execution_count": 65,
   "id": "e5ae4b00",
   "metadata": {},
   "outputs": [],
   "source": [
    "from sklearn.neighbors import KNeighborsClassifier"
   ]
  },
  {
   "cell_type": "code",
   "execution_count": 66,
   "id": "98006d64",
   "metadata": {},
   "outputs": [
    {
     "data": {
      "text/plain": [
       "0.6865898717670071"
      ]
     },
     "execution_count": 66,
     "metadata": {},
     "output_type": "execute_result"
    }
   ],
   "source": [
    "knn=KNeighborsClassifier(n_neighbors = 5)\n",
    "knn.fit(xtrain, ytrain)\n",
    "knn.score(xtest,ytest)"
   ]
  },
  {
   "cell_type": "code",
   "execution_count": 67,
   "id": "11fbafb5",
   "metadata": {},
   "outputs": [
    {
     "data": {
      "image/png": "[encoded data removed]",
      "text/plain": [
       "<Figure size 720x360 with 1 Axes>"
      ]
     },
     "metadata": {},
     "output_type": "display_data"
    },
    {
     "name": "stdout",
     "output_type": "stream",
     "text": [
      "The best k is 9 and the highest accuracy 0.7002825472723321\n"
     ]
    }
   ],
   "source": [
    "# parameter tuning: what is the best K (we had k = 10)\n",
    "test_score = []\n",
    "train_score = [ ]\n",
    "\n",
    "for k in range(1, 10):\n",
    "    knn = KNeighborsClassifier(n_neighbors = k)\n",
    "    knn.fit(xtrain, ytrain)\n",
    "    \n",
    "    # test accuracy\n",
    "    y_pred = knn.predict(xtest)\n",
    "    test_score.append(accuracy_score(ytest, y_pred) )\n",
    "    \n",
    "    # train accuracy\n",
    "    y_pred = knn.predict(xtrain)\n",
    "    train_score.append(accuracy_score(ytrain, y_pred) )\n",
    "                      \n",
    "                      \n",
    "# plot \n",
    "x = range(1, 10)\n",
    "plt.figure(figsize=[10, 5])\n",
    "plt.plot(x, test_score,  label='Testing')\n",
    "plt.plot(x, train_score, label='Trainning')\n",
    "plt.legend()                       \n",
    "plt.show()\n",
    "\n",
    "# find best k\n",
    "best_k = np.array(test_score).argmax() + 1 # as we had the list index starting 0.\n",
    "print(f\"The best k is {best_k} and the highest accuracy {max(test_score)}\")"
   ]
  },
  {
   "cell_type": "code",
   "execution_count": 68,
   "id": "6addffe8",
   "metadata": {},
   "outputs": [
    {
     "name": "stdout",
     "output_type": "stream",
     "text": [
      "Overall Accuracy: 70.03%\n",
      "--------------------------\n",
      "              precision    recall  f1-score   support\n",
      "\n",
      "           0       0.69      0.73      0.71      6978\n",
      "           1       0.71      0.67      0.69      6825\n",
      "\n",
      "    accuracy                           0.70     13803\n",
      "   macro avg       0.70      0.70      0.70     13803\n",
      "weighted avg       0.70      0.70      0.70     13803\n",
      "\n"
     ]
    },
    {
     "data": {
      "image/png": "[encoded data removed]",
      "text/plain": [
       "<Figure size 576x360 with 2 Axes>"
      ]
     },
     "metadata": {},
     "output_type": "display_data"
    }
   ],
   "source": [
    "# recal. using best k\n",
    "\n",
    "knn_best = KNeighborsClassifier(n_neighbors =  best_k)\n",
    "knn_best.fit(xtrain, ytrain)\n",
    "y_pred = knn_best.predict(xtest)\n",
    "k_NN_acc = accuracy_score(ytest, y_pred)\n",
    "\n",
    "# overall accuracy and report\n",
    "report_heatmap(y_pred)"
   ]
  },
  {
   "cell_type": "markdown",
   "id": "317a401f",
   "metadata": {},
   "source": [
    "## Ensemble Method "
   ]
  },
  {
   "cell_type": "code",
   "execution_count": 69,
   "id": "60adfe80",
   "metadata": {},
   "outputs": [],
   "source": [
    "from sklearn.ensemble import StackingClassifier"
   ]
  },
  {
   "cell_type": "code",
   "execution_count": 70,
   "id": "9f044fb0",
   "metadata": {},
   "outputs": [
    {
     "name": "stderr",
     "output_type": "stream",
     "text": [
      "/Users/wuchengying/opt/anaconda3/lib/python3.8/site-packages/sklearn/svm/_base.py:985: ConvergenceWarning: Liblinear failed to converge, increase the number of iterations.\n",
      "  warnings.warn(\"Liblinear failed to converge, increase \"\n",
      "/Users/wuchengying/opt/anaconda3/lib/python3.8/site-packages/sklearn/svm/_base.py:985: ConvergenceWarning: Liblinear failed to converge, increase the number of iterations.\n",
      "  warnings.warn(\"Liblinear failed to converge, increase \"\n",
      "/Users/wuchengying/opt/anaconda3/lib/python3.8/site-packages/sklearn/svm/_base.py:985: ConvergenceWarning: Liblinear failed to converge, increase the number of iterations.\n",
      "  warnings.warn(\"Liblinear failed to converge, increase \"\n",
      "/Users/wuchengying/opt/anaconda3/lib/python3.8/site-packages/sklearn/svm/_base.py:985: ConvergenceWarning: Liblinear failed to converge, increase the number of iterations.\n",
      "  warnings.warn(\"Liblinear failed to converge, increase \"\n",
      "/Users/wuchengying/opt/anaconda3/lib/python3.8/site-packages/sklearn/svm/_base.py:985: ConvergenceWarning: Liblinear failed to converge, increase the number of iterations.\n",
      "  warnings.warn(\"Liblinear failed to converge, increase \"\n",
      "/Users/wuchengying/opt/anaconda3/lib/python3.8/site-packages/sklearn/svm/_base.py:985: ConvergenceWarning: Liblinear failed to converge, increase the number of iterations.\n",
      "  warnings.warn(\"Liblinear failed to converge, increase \"\n"
     ]
    },
    {
     "data": {
      "text/plain": [
       "StackingClassifier(estimators=[('LR',\n",
       "                                LogisticRegression(C=1438.44988828766,\n",
       "                                                   max_iter=50, penalty='l1',\n",
       "                                                   solver='liblinear')),\n",
       "                               ('KNN', KNeighborsClassifier(n_neighbors=9)),\n",
       "                               ('RFCF',\n",
       "                                RandomForestClassifier(max_depth=3,\n",
       "                                                       n_estimators=7,\n",
       "                                                       random_state=42)),\n",
       "                               ('DT', DecisionTreeClassifier(max_depth=5))],\n",
       "                   final_estimator=LogisticRegression())"
      ]
     },
     "execution_count": 70,
     "metadata": {},
     "output_type": "execute_result"
    }
   ],
   "source": [
    "estimator=[\n",
    "    ('LR',lr_best),\n",
    "    ('KNN',knn_best),\n",
    "    ('RFCF',rfc_best),\n",
    "    ('DT',dt_best)]\n",
    "clf=StackingClassifier(estimators=estimator, final_estimator=LogisticRegression())\n",
    "clf.fit(xtrain, ytrain)"
   ]
  },
  {
   "cell_type": "code",
   "execution_count": 71,
   "id": "5d8b409e",
   "metadata": {},
   "outputs": [
    {
     "name": "stdout",
     "output_type": "stream",
     "text": [
      "Overall Accuracy: 73.61%\n",
      "--------------------------\n",
      "              precision    recall  f1-score   support\n",
      "\n",
      "           0       0.71      0.79      0.75      6978\n",
      "           1       0.76      0.68      0.72      6825\n",
      "\n",
      "    accuracy                           0.74     13803\n",
      "   macro avg       0.74      0.74      0.73     13803\n",
      "weighted avg       0.74      0.74      0.74     13803\n",
      "\n"
     ]
    },
    {
     "data": {
      "image/png": "[encoded data removed]",
      "text/plain": [
       "<Figure size 576x360 with 2 Axes>"
      ]
     },
     "metadata": {},
     "output_type": "display_data"
    }
   ],
   "source": [
    "y_pred = clf.predict(xtest)\n",
    "clfacc = accuracy_score(ytest, y_pred)\n",
    "clfacc\n",
    "\n",
    "report_heatmap( y_pred )"
   ]
  },
  {
   "cell_type": "markdown",
   "id": "e66ec980",
   "metadata": {},
   "source": [
    "## Support vector machine"
   ]
  },
  {
   "cell_type": "code",
   "execution_count": 72,
   "id": "fcb8a00d",
   "metadata": {},
   "outputs": [],
   "source": [
    "from sklearn import svm"
   ]
  },
  {
   "cell_type": "code",
   "execution_count": 73,
   "id": "c8ce1915",
   "metadata": {},
   "outputs": [],
   "source": [
    "svc = svm.SVC()\n",
    "svc_fit = svc.fit(xtrain, ytrain)"
   ]
  },
  {
   "cell_type": "code",
   "execution_count": 74,
   "id": "e1ef1de7",
   "metadata": {},
   "outputs": [
    {
     "name": "stdout",
     "output_type": "stream",
     "text": [
      "SVM accuracy = 0.7305658190248496\n",
      "Overall Accuracy: 73.06%\n",
      "--------------------------\n",
      "              precision    recall  f1-score   support\n",
      "\n",
      "           0       0.71      0.78      0.75      6978\n",
      "           1       0.75      0.68      0.71      6825\n",
      "\n",
      "    accuracy                           0.73     13803\n",
      "   macro avg       0.73      0.73      0.73     13803\n",
      "weighted avg       0.73      0.73      0.73     13803\n",
      "\n"
     ]
    },
    {
     "data": {
      "image/png": "[encoded data removed]",
      "text/plain": [
       "<Figure size 576x360 with 2 Axes>"
      ]
     },
     "metadata": {},
     "output_type": "display_data"
    }
   ],
   "source": [
    "y_pred = svc.predict(xtest)\n",
    "\n",
    "svm_acc = accuracy_score(ytest, y_pred)\n",
    "print(\"SVM accuracy = \" + str(svm_acc))\n",
    "\n",
    "report_heatmap( y_pred )"
   ]
  },
  {
   "cell_type": "markdown",
   "id": "9ddef0d9",
   "metadata": {},
   "source": [
    "## Model Comparison "
   ]
  },
  {
   "cell_type": "code",
   "execution_count": 75,
   "id": "3ba640b0",
   "metadata": {},
   "outputs": [
    {
     "data": {
      "text/html": [
       "<div>\n",
       "<style scoped>\n",
       "    .dataframe tbody tr th:only-of-type {\n",
       "        vertical-align: middle;\n",
       "    }\n",
       "\n",
       "    .dataframe tbody tr th {\n",
       "        vertical-align: top;\n",
       "    }\n",
       "\n",
       "    .dataframe thead th {\n",
       "        text-align: right;\n",
       "    }\n",
       "</style>\n",
       "<table border=\"1\" class=\"dataframe\">\n",
       "  <thead>\n",
       "    <tr style=\"text-align: right;\">\n",
       "      <th></th>\n",
       "      <th>SVM</th>\n",
       "      <th>Ensemble</th>\n",
       "      <th>DNN</th>\n",
       "      <th>MLPNN</th>\n",
       "      <th>KNN</th>\n",
       "      <th>Logistic R</th>\n",
       "      <th>Decision Tree</th>\n",
       "      <th>Random Forest</th>\n",
       "    </tr>\n",
       "  </thead>\n",
       "  <tbody>\n",
       "    <tr>\n",
       "      <th>accuracy</th>\n",
       "      <td>0.730566</td>\n",
       "      <td>0.736072</td>\n",
       "      <td>0.656307</td>\n",
       "      <td>0.737231</td>\n",
       "      <td>0.700283</td>\n",
       "      <td>0.729769</td>\n",
       "      <td>0.732449</td>\n",
       "      <td>0.72448</td>\n",
       "    </tr>\n",
       "  </tbody>\n",
       "</table>\n",
       "</div>"
      ],
      "text/plain": [
       "               SVM  Ensemble       DNN     MLPNN       KNN  Logistic R  \\\n",
       "accuracy  0.730566  0.736072  0.656307  0.737231  0.700283    0.729769   \n",
       "\n",
       "          Decision Tree  Random Forest  \n",
       "accuracy       0.732449        0.72448  "
      ]
     },
     "metadata": {},
     "output_type": "display_data"
    },
    {
     "data": {
      "image/png": "[encoded data removed]",
      "text/plain": [
       "<Figure size 720x360 with 1 Axes>"
      ]
     },
     "metadata": {},
     "output_type": "display_data"
    }
   ],
   "source": [
    "# Accuracies for three best models \n",
    "model_compare = pd.DataFrame({\"SVM\":svm_acc,\"Ensemble\":clfacc,\"DNN\":dnn_accr,\"MLPNN\":mlpc_acc,\"KNN\":k_NN_acc,\"Logistic R\":lr_acc, \"Decision Tree\":dt_acc, \"Random Forest\":rfc_acc}, index=[\"accuracy\"])\n",
    "model_compare.T.plot.bar(figsize=[10, 5]) \n",
    "\n",
    "display(model_compare)\n",
    "\n",
    "plt.show( )\n"
   ]
  },
  {
   "cell_type": "code",
   "execution_count": null,
   "id": "d538b6d9",
   "metadata": {},
   "outputs": [],
   "source": []
  },
  {
   "cell_type": "code",
   "execution_count": 76,
   "id": "7c064063",
   "metadata": {},
   "outputs": [
    {
     "data": {
      "text/html": [
       "<div>\n",
       "<style scoped>\n",
       "    .dataframe tbody tr th:only-of-type {\n",
       "        vertical-align: middle;\n",
       "    }\n",
       "\n",
       "    .dataframe tbody tr th {\n",
       "        vertical-align: top;\n",
       "    }\n",
       "\n",
       "    .dataframe thead th {\n",
       "        text-align: right;\n",
       "    }\n",
       "</style>\n",
       "<table border=\"1\" class=\"dataframe\">\n",
       "  <thead>\n",
       "    <tr style=\"text-align: right;\">\n",
       "      <th></th>\n",
       "      <th>age</th>\n",
       "      <th>gender</th>\n",
       "      <th>height</th>\n",
       "      <th>weight</th>\n",
       "      <th>ap_hi</th>\n",
       "      <th>ap_lo</th>\n",
       "      <th>cholesterol</th>\n",
       "      <th>gluc</th>\n",
       "      <th>smoke</th>\n",
       "      <th>alco</th>\n",
       "      <th>active</th>\n",
       "      <th>cardio</th>\n",
       "    </tr>\n",
       "  </thead>\n",
       "  <tbody>\n",
       "    <tr>\n",
       "      <th>0</th>\n",
       "      <td>18393</td>\n",
       "      <td>2</td>\n",
       "      <td>168</td>\n",
       "      <td>62.0</td>\n",
       "      <td>110</td>\n",
       "      <td>80</td>\n",
       "      <td>1</td>\n",
       "      <td>1</td>\n",
       "      <td>0</td>\n",
       "      <td>0</td>\n",
       "      <td>1</td>\n",
       "      <td>0</td>\n",
       "    </tr>\n",
       "    <tr>\n",
       "      <th>1</th>\n",
       "      <td>20228</td>\n",
       "      <td>1</td>\n",
       "      <td>156</td>\n",
       "      <td>85.0</td>\n",
       "      <td>140</td>\n",
       "      <td>90</td>\n",
       "      <td>3</td>\n",
       "      <td>1</td>\n",
       "      <td>0</td>\n",
       "      <td>0</td>\n",
       "      <td>1</td>\n",
       "      <td>1</td>\n",
       "    </tr>\n",
       "    <tr>\n",
       "      <th>2</th>\n",
       "      <td>18857</td>\n",
       "      <td>1</td>\n",
       "      <td>165</td>\n",
       "      <td>64.0</td>\n",
       "      <td>130</td>\n",
       "      <td>70</td>\n",
       "      <td>3</td>\n",
       "      <td>1</td>\n",
       "      <td>0</td>\n",
       "      <td>0</td>\n",
       "      <td>0</td>\n",
       "      <td>1</td>\n",
       "    </tr>\n",
       "    <tr>\n",
       "      <th>3</th>\n",
       "      <td>17623</td>\n",
       "      <td>2</td>\n",
       "      <td>169</td>\n",
       "      <td>82.0</td>\n",
       "      <td>150</td>\n",
       "      <td>100</td>\n",
       "      <td>1</td>\n",
       "      <td>1</td>\n",
       "      <td>0</td>\n",
       "      <td>0</td>\n",
       "      <td>1</td>\n",
       "      <td>1</td>\n",
       "    </tr>\n",
       "    <tr>\n",
       "      <th>4</th>\n",
       "      <td>17474</td>\n",
       "      <td>1</td>\n",
       "      <td>156</td>\n",
       "      <td>56.0</td>\n",
       "      <td>100</td>\n",
       "      <td>60</td>\n",
       "      <td>1</td>\n",
       "      <td>1</td>\n",
       "      <td>0</td>\n",
       "      <td>0</td>\n",
       "      <td>0</td>\n",
       "      <td>0</td>\n",
       "    </tr>\n",
       "  </tbody>\n",
       "</table>\n",
       "</div>"
      ],
      "text/plain": [
       "     age  gender  height  weight  ap_hi  ap_lo  cholesterol  gluc  smoke  \\\n",
       "0  18393       2     168    62.0    110     80            1     1      0   \n",
       "1  20228       1     156    85.0    140     90            3     1      0   \n",
       "2  18857       1     165    64.0    130     70            3     1      0   \n",
       "3  17623       2     169    82.0    150    100            1     1      0   \n",
       "4  17474       1     156    56.0    100     60            1     1      0   \n",
       "\n",
       "   alco  active  cardio  \n",
       "0     0       1       0  \n",
       "1     0       1       1  \n",
       "2     0       0       1  \n",
       "3     0       1       1  \n",
       "4     0       0       0  "
      ]
     },
     "execution_count": 76,
     "metadata": {},
     "output_type": "execute_result"
    }
   ],
   "source": [
    "df.head()"
   ]
  },
  {
   "cell_type": "markdown",
   "id": "b14c2146",
   "metadata": {},
   "source": [
    "# Application of Dropped Columns based on Feature Importances"
   ]
  },
  {
   "cell_type": "code",
   "execution_count": 77,
   "id": "ed8a80b7",
   "metadata": {},
   "outputs": [],
   "source": [
    "# label col\n",
    "y = df.cardio\n",
    "\n",
    "# independant variable\n",
    "x = df.drop(columns = [\"cardio\"] ) "
   ]
  },
  {
   "cell_type": "code",
   "execution_count": 78,
   "id": "47bb0090",
   "metadata": {},
   "outputs": [
    {
     "data": {
      "text/plain": [
       "(69011, 11)"
      ]
     },
     "execution_count": 78,
     "metadata": {},
     "output_type": "execute_result"
    }
   ],
   "source": [
    "x.shape"
   ]
  },
  {
   "cell_type": "code",
   "execution_count": 79,
   "id": "b95810f6",
   "metadata": {},
   "outputs": [],
   "source": [
    "x=x.drop(columns=['gender','active','smoke','alco'])"
   ]
  },
  {
   "cell_type": "code",
   "execution_count": 80,
   "id": "f32c8e42",
   "metadata": {
    "scrolled": false
   },
   "outputs": [
    {
     "data": {
      "text/html": [
       "<div>\n",
       "<style scoped>\n",
       "    .dataframe tbody tr th:only-of-type {\n",
       "        vertical-align: middle;\n",
       "    }\n",
       "\n",
       "    .dataframe tbody tr th {\n",
       "        vertical-align: top;\n",
       "    }\n",
       "\n",
       "    .dataframe thead th {\n",
       "        text-align: right;\n",
       "    }\n",
       "</style>\n",
       "<table border=\"1\" class=\"dataframe\">\n",
       "  <thead>\n",
       "    <tr style=\"text-align: right;\">\n",
       "      <th></th>\n",
       "      <th>age</th>\n",
       "      <th>height</th>\n",
       "      <th>weight</th>\n",
       "      <th>ap_hi</th>\n",
       "      <th>ap_lo</th>\n",
       "      <th>cholesterol</th>\n",
       "      <th>gluc</th>\n",
       "    </tr>\n",
       "  </thead>\n",
       "  <tbody>\n",
       "    <tr>\n",
       "      <th>0</th>\n",
       "      <td>18393</td>\n",
       "      <td>168</td>\n",
       "      <td>62.0</td>\n",
       "      <td>110</td>\n",
       "      <td>80</td>\n",
       "      <td>1</td>\n",
       "      <td>1</td>\n",
       "    </tr>\n",
       "    <tr>\n",
       "      <th>1</th>\n",
       "      <td>20228</td>\n",
       "      <td>156</td>\n",
       "      <td>85.0</td>\n",
       "      <td>140</td>\n",
       "      <td>90</td>\n",
       "      <td>3</td>\n",
       "      <td>1</td>\n",
       "    </tr>\n",
       "    <tr>\n",
       "      <th>2</th>\n",
       "      <td>18857</td>\n",
       "      <td>165</td>\n",
       "      <td>64.0</td>\n",
       "      <td>130</td>\n",
       "      <td>70</td>\n",
       "      <td>3</td>\n",
       "      <td>1</td>\n",
       "    </tr>\n",
       "    <tr>\n",
       "      <th>3</th>\n",
       "      <td>17623</td>\n",
       "      <td>169</td>\n",
       "      <td>82.0</td>\n",
       "      <td>150</td>\n",
       "      <td>100</td>\n",
       "      <td>1</td>\n",
       "      <td>1</td>\n",
       "    </tr>\n",
       "    <tr>\n",
       "      <th>4</th>\n",
       "      <td>17474</td>\n",
       "      <td>156</td>\n",
       "      <td>56.0</td>\n",
       "      <td>100</td>\n",
       "      <td>60</td>\n",
       "      <td>1</td>\n",
       "      <td>1</td>\n",
       "    </tr>\n",
       "    <tr>\n",
       "      <th>...</th>\n",
       "      <td>...</td>\n",
       "      <td>...</td>\n",
       "      <td>...</td>\n",
       "      <td>...</td>\n",
       "      <td>...</td>\n",
       "      <td>...</td>\n",
       "      <td>...</td>\n",
       "    </tr>\n",
       "    <tr>\n",
       "      <th>69995</th>\n",
       "      <td>19240</td>\n",
       "      <td>168</td>\n",
       "      <td>76.0</td>\n",
       "      <td>120</td>\n",
       "      <td>80</td>\n",
       "      <td>1</td>\n",
       "      <td>1</td>\n",
       "    </tr>\n",
       "    <tr>\n",
       "      <th>69996</th>\n",
       "      <td>22601</td>\n",
       "      <td>158</td>\n",
       "      <td>126.0</td>\n",
       "      <td>140</td>\n",
       "      <td>90</td>\n",
       "      <td>2</td>\n",
       "      <td>2</td>\n",
       "    </tr>\n",
       "    <tr>\n",
       "      <th>69997</th>\n",
       "      <td>19066</td>\n",
       "      <td>183</td>\n",
       "      <td>105.0</td>\n",
       "      <td>180</td>\n",
       "      <td>90</td>\n",
       "      <td>3</td>\n",
       "      <td>1</td>\n",
       "    </tr>\n",
       "    <tr>\n",
       "      <th>69998</th>\n",
       "      <td>22431</td>\n",
       "      <td>163</td>\n",
       "      <td>72.0</td>\n",
       "      <td>135</td>\n",
       "      <td>80</td>\n",
       "      <td>1</td>\n",
       "      <td>2</td>\n",
       "    </tr>\n",
       "    <tr>\n",
       "      <th>69999</th>\n",
       "      <td>20540</td>\n",
       "      <td>170</td>\n",
       "      <td>72.0</td>\n",
       "      <td>120</td>\n",
       "      <td>80</td>\n",
       "      <td>2</td>\n",
       "      <td>1</td>\n",
       "    </tr>\n",
       "  </tbody>\n",
       "</table>\n",
       "<p>69011 rows × 7 columns</p>\n",
       "</div>"
      ],
      "text/plain": [
       "         age  height  weight  ap_hi  ap_lo  cholesterol  gluc\n",
       "0      18393     168    62.0    110     80            1     1\n",
       "1      20228     156    85.0    140     90            3     1\n",
       "2      18857     165    64.0    130     70            3     1\n",
       "3      17623     169    82.0    150    100            1     1\n",
       "4      17474     156    56.0    100     60            1     1\n",
       "...      ...     ...     ...    ...    ...          ...   ...\n",
       "69995  19240     168    76.0    120     80            1     1\n",
       "69996  22601     158   126.0    140     90            2     2\n",
       "69997  19066     183   105.0    180     90            3     1\n",
       "69998  22431     163    72.0    135     80            1     2\n",
       "69999  20540     170    72.0    120     80            2     1\n",
       "\n",
       "[69011 rows x 7 columns]"
      ]
     },
     "execution_count": 80,
     "metadata": {},
     "output_type": "execute_result"
    }
   ],
   "source": [
    "x"
   ]
  },
  {
   "cell_type": "code",
   "execution_count": 81,
   "id": "65d5817a",
   "metadata": {},
   "outputs": [],
   "source": [
    "x = x.apply(lambda x:(x - x.min())/(x.max() - x.min() ), axis= 0 )"
   ]
  },
  {
   "cell_type": "code",
   "execution_count": 82,
   "id": "72964ca2",
   "metadata": {},
   "outputs": [
    {
     "data": {
      "text/html": [
       "<div>\n",
       "<style scoped>\n",
       "    .dataframe tbody tr th:only-of-type {\n",
       "        vertical-align: middle;\n",
       "    }\n",
       "\n",
       "    .dataframe tbody tr th {\n",
       "        vertical-align: top;\n",
       "    }\n",
       "\n",
       "    .dataframe thead th {\n",
       "        text-align: right;\n",
       "    }\n",
       "</style>\n",
       "<table border=\"1\" class=\"dataframe\">\n",
       "  <thead>\n",
       "    <tr style=\"text-align: right;\">\n",
       "      <th></th>\n",
       "      <th>age</th>\n",
       "      <th>height</th>\n",
       "      <th>weight</th>\n",
       "      <th>ap_hi</th>\n",
       "      <th>ap_lo</th>\n",
       "      <th>cholesterol</th>\n",
       "      <th>gluc</th>\n",
       "    </tr>\n",
       "  </thead>\n",
       "  <tbody>\n",
       "    <tr>\n",
       "      <th>0</th>\n",
       "      <td>0.588076</td>\n",
       "      <td>0.579487</td>\n",
       "      <td>0.269841</td>\n",
       "      <td>0.471869</td>\n",
       "      <td>0.223214</td>\n",
       "      <td>0.0</td>\n",
       "      <td>0.0</td>\n",
       "    </tr>\n",
       "    <tr>\n",
       "      <th>1</th>\n",
       "      <td>0.730159</td>\n",
       "      <td>0.517949</td>\n",
       "      <td>0.391534</td>\n",
       "      <td>0.526316</td>\n",
       "      <td>0.238095</td>\n",
       "      <td>1.0</td>\n",
       "      <td>0.0</td>\n",
       "    </tr>\n",
       "    <tr>\n",
       "      <th>2</th>\n",
       "      <td>0.624003</td>\n",
       "      <td>0.564103</td>\n",
       "      <td>0.280423</td>\n",
       "      <td>0.508167</td>\n",
       "      <td>0.208333</td>\n",
       "      <td>1.0</td>\n",
       "      <td>0.0</td>\n",
       "    </tr>\n",
       "    <tr>\n",
       "      <th>3</th>\n",
       "      <td>0.528455</td>\n",
       "      <td>0.584615</td>\n",
       "      <td>0.375661</td>\n",
       "      <td>0.544465</td>\n",
       "      <td>0.252976</td>\n",
       "      <td>0.0</td>\n",
       "      <td>0.0</td>\n",
       "    </tr>\n",
       "    <tr>\n",
       "      <th>4</th>\n",
       "      <td>0.516918</td>\n",
       "      <td>0.517949</td>\n",
       "      <td>0.238095</td>\n",
       "      <td>0.453721</td>\n",
       "      <td>0.193452</td>\n",
       "      <td>0.0</td>\n",
       "      <td>0.0</td>\n",
       "    </tr>\n",
       "    <tr>\n",
       "      <th>...</th>\n",
       "      <td>...</td>\n",
       "      <td>...</td>\n",
       "      <td>...</td>\n",
       "      <td>...</td>\n",
       "      <td>...</td>\n",
       "      <td>...</td>\n",
       "      <td>...</td>\n",
       "    </tr>\n",
       "    <tr>\n",
       "      <th>69995</th>\n",
       "      <td>0.653659</td>\n",
       "      <td>0.579487</td>\n",
       "      <td>0.343915</td>\n",
       "      <td>0.490018</td>\n",
       "      <td>0.223214</td>\n",
       "      <td>0.0</td>\n",
       "      <td>0.0</td>\n",
       "    </tr>\n",
       "    <tr>\n",
       "      <th>69996</th>\n",
       "      <td>0.913899</td>\n",
       "      <td>0.528205</td>\n",
       "      <td>0.608466</td>\n",
       "      <td>0.526316</td>\n",
       "      <td>0.238095</td>\n",
       "      <td>0.5</td>\n",
       "      <td>0.5</td>\n",
       "    </tr>\n",
       "    <tr>\n",
       "      <th>69997</th>\n",
       "      <td>0.640186</td>\n",
       "      <td>0.656410</td>\n",
       "      <td>0.497354</td>\n",
       "      <td>0.598911</td>\n",
       "      <td>0.238095</td>\n",
       "      <td>1.0</td>\n",
       "      <td>0.0</td>\n",
       "    </tr>\n",
       "    <tr>\n",
       "      <th>69998</th>\n",
       "      <td>0.900736</td>\n",
       "      <td>0.553846</td>\n",
       "      <td>0.322751</td>\n",
       "      <td>0.517241</td>\n",
       "      <td>0.223214</td>\n",
       "      <td>0.0</td>\n",
       "      <td>0.5</td>\n",
       "    </tr>\n",
       "    <tr>\n",
       "      <th>69999</th>\n",
       "      <td>0.754317</td>\n",
       "      <td>0.589744</td>\n",
       "      <td>0.322751</td>\n",
       "      <td>0.490018</td>\n",
       "      <td>0.223214</td>\n",
       "      <td>0.5</td>\n",
       "      <td>0.0</td>\n",
       "    </tr>\n",
       "  </tbody>\n",
       "</table>\n",
       "<p>69011 rows × 7 columns</p>\n",
       "</div>"
      ],
      "text/plain": [
       "            age    height    weight     ap_hi     ap_lo  cholesterol  gluc\n",
       "0      0.588076  0.579487  0.269841  0.471869  0.223214          0.0   0.0\n",
       "1      0.730159  0.517949  0.391534  0.526316  0.238095          1.0   0.0\n",
       "2      0.624003  0.564103  0.280423  0.508167  0.208333          1.0   0.0\n",
       "3      0.528455  0.584615  0.375661  0.544465  0.252976          0.0   0.0\n",
       "4      0.516918  0.517949  0.238095  0.453721  0.193452          0.0   0.0\n",
       "...         ...       ...       ...       ...       ...          ...   ...\n",
       "69995  0.653659  0.579487  0.343915  0.490018  0.223214          0.0   0.0\n",
       "69996  0.913899  0.528205  0.608466  0.526316  0.238095          0.5   0.5\n",
       "69997  0.640186  0.656410  0.497354  0.598911  0.238095          1.0   0.0\n",
       "69998  0.900736  0.553846  0.322751  0.517241  0.223214          0.0   0.5\n",
       "69999  0.754317  0.589744  0.322751  0.490018  0.223214          0.5   0.0\n",
       "\n",
       "[69011 rows x 7 columns]"
      ]
     },
     "execution_count": 82,
     "metadata": {},
     "output_type": "execute_result"
    }
   ],
   "source": [
    "x"
   ]
  },
  {
   "cell_type": "code",
   "execution_count": 83,
   "id": "66a4aac8",
   "metadata": {},
   "outputs": [],
   "source": [
    "from sklearn.model_selection import train_test_split\n",
    "xtrain,xtest,ytrain,ytest = train_test_split(x,y,test_size=.20,random_state=5)"
   ]
  },
  {
   "cell_type": "markdown",
   "id": "b03c8a4b",
   "metadata": {},
   "source": [
    "## Random Forest Classification"
   ]
  },
  {
   "cell_type": "code",
   "execution_count": 84,
   "id": "b4002fff",
   "metadata": {
    "scrolled": true
   },
   "outputs": [
    {
     "name": "stdout",
     "output_type": "stream",
     "text": [
      "After dropping the features whose importance is lower than 0.01.\n",
      "Best forest model accuracy:0.723\n"
     ]
    }
   ],
   "source": [
    "# best rfc: copy the parameters above \n",
    "rfc_best = RandomForestClassifier( n_estimators = 7,\n",
    " min_samples_split = 2,\n",
    " min_samples_leaf = 1,\n",
    " max_depth = 3, \n",
    " random_state = 42)\n",
    "\n",
    "# train\n",
    "rfc_best.fit(xtrain,ytrain)\n",
    "\n",
    "# accuracy for testing    \n",
    "y_pred = rfc_best.predict(xtest)\n",
    "acc = accuracy_score(y_pred, ytest)\n",
    "\n",
    "print(\"After dropping the features whose importance is lower than 0.01.\")\n",
    "print(f\"Best forest model accuracy:{acc:0.3f}\")\n"
   ]
  },
  {
   "cell_type": "markdown",
   "id": "4a6ed0d7",
   "metadata": {},
   "source": [
    "## Decision Tree Classification"
   ]
  },
  {
   "cell_type": "code",
   "execution_count": 85,
   "id": "3743e4de",
   "metadata": {},
   "outputs": [
    {
     "name": "stdout",
     "output_type": "stream",
     "text": [
      "After dropping the features whose importance is lower than 0.01.\n",
      "Overall Accuracy: 73.03%\n",
      "--------------------------\n",
      "              precision    recall  f1-score   support\n",
      "\n",
      "           0       0.70      0.82      0.75      6978\n",
      "           1       0.78      0.64      0.70      6825\n",
      "\n",
      "    accuracy                           0.73     13803\n",
      "   macro avg       0.74      0.73      0.73     13803\n",
      "weighted avg       0.74      0.73      0.73     13803\n",
      "\n"
     ]
    },
    {
     "data": {
      "image/png": "[encoded data removed]",
      "text/plain": [
       "<Figure size 576x360 with 2 Axes>"
      ]
     },
     "metadata": {},
     "output_type": "display_data"
    }
   ],
   "source": [
    "# use the best depth 3 to retrain the Decision Tree\n",
    "dt_best = DecisionTreeClassifier(max_depth=7)\n",
    "dt_best.fit(xtrain, ytrain)\n",
    "\n",
    "\n",
    "# Report and heatmap\n",
    "y_pred = dt_best.predict(xtest)\n",
    "dt_acc = accuracy_score(ytest, y_pred) \n",
    "\n",
    "print(\"After dropping the features whose importance is lower than 0.01.\")\n",
    "report_heatmap( y_pred )"
   ]
  },
  {
   "cell_type": "markdown",
   "id": "982e739f",
   "metadata": {},
   "source": [
    "## Logistic Regression"
   ]
  },
  {
   "cell_type": "code",
   "execution_count": 86,
   "id": "ebc70a3c",
   "metadata": {},
   "outputs": [
    {
     "name": "stdout",
     "output_type": "stream",
     "text": [
      "After dropping the features whose importance is lower than 0.01.\n",
      "Overall Accuracy: 72.83%\n",
      "--------------------------\n",
      "              precision    recall  f1-score   support\n",
      "\n",
      "           0       0.71      0.79      0.75      6978\n",
      "           1       0.75      0.67      0.71      6825\n",
      "\n",
      "    accuracy                           0.73     13803\n",
      "   macro avg       0.73      0.73      0.73     13803\n",
      "weighted avg       0.73      0.73      0.73     13803\n",
      "\n"
     ]
    },
    {
     "name": "stderr",
     "output_type": "stream",
     "text": [
      "/Users/wuchengying/opt/anaconda3/lib/python3.8/site-packages/sklearn/svm/_base.py:985: ConvergenceWarning: Liblinear failed to converge, increase the number of iterations.\n",
      "  warnings.warn(\"Liblinear failed to converge, increase \"\n"
     ]
    },
    {
     "data": {
      "image/png": "[encoded data removed]",
      "text/plain": [
       "<Figure size 576x360 with 2 Axes>"
      ]
     },
     "metadata": {},
     "output_type": "display_data"
    }
   ],
   "source": [
    "# use the best depth 3 to retrain the Decision Tree\n",
    "lr_best = LogisticRegression(\n",
    "    C=3792.690190732246,\n",
    "    max_iter=50,\n",
    "    solver=\"liblinear\",\n",
    "    penalty=\"l1\"\n",
    ")\n",
    "lr_best.fit(xtrain, ytrain)\n",
    "\n",
    "\n",
    "# Report and heatmap\n",
    "y_pred = lr_best.predict(xtest)\n",
    "lr_acc = accuracy_score(ytest, y_pred) \n",
    "\n",
    "print(\"After dropping the features whose importance is lower than 0.01.\")\n",
    "report_heatmap( y_pred )"
   ]
  },
  {
   "cell_type": "markdown",
   "id": "73eae7e9",
   "metadata": {},
   "source": [
    "## Multiple Layer Perceptron Classification"
   ]
  },
  {
   "cell_type": "code",
   "execution_count": 87,
   "id": "36c45949",
   "metadata": {},
   "outputs": [
    {
     "name": "stdout",
     "output_type": "stream",
     "text": [
      "After dropping the features whose importance is lower than 0.01.\n",
      "Overall Accuracy: 72.74%\n",
      "--------------------------\n",
      "              precision    recall  f1-score   support\n",
      "\n",
      "           0       0.69      0.85      0.76      6978\n",
      "           1       0.79      0.61      0.69      6825\n",
      "\n",
      "    accuracy                           0.73     13803\n",
      "   macro avg       0.74      0.73      0.72     13803\n",
      "weighted avg       0.74      0.73      0.72     13803\n",
      "\n"
     ]
    },
    {
     "data": {
      "image/png": "[encoded data removed]",
      "text/plain": [
       "<Figure size 576x360 with 2 Axes>"
      ]
     },
     "metadata": {},
     "output_type": "display_data"
    }
   ],
   "source": [
    "# use the best depth 3 to retrain the Decision Tree\n",
    "mlpc_best = MLPClassifier(\n",
    "    activation=\"relu\",\n",
    "    hidden_layer_sizes={20,30},\n",
    "    solver=\"adam\",\n",
    "    learning_rate_init=0.01,\n",
    "    random_state=300\n",
    ")\n",
    "mlpc_best.fit(xtrain, ytrain)\n",
    "\n",
    "\n",
    "# Report and heatmap\n",
    "y_pred = mlpc_best.predict(xtest)\n",
    "mlpc_acc = accuracy_score(ytest, y_pred) \n",
    "\n",
    "print(\"After dropping the features whose importance is lower than 0.01.\")\n",
    "report_heatmap( y_pred )"
   ]
  },
  {
   "cell_type": "markdown",
   "id": "d049fd61",
   "metadata": {},
   "source": [
    "## K-Nearest Neighbor Classification"
   ]
  },
  {
   "cell_type": "code",
   "execution_count": 88,
   "id": "a9552013",
   "metadata": {},
   "outputs": [
    {
     "name": "stdout",
     "output_type": "stream",
     "text": [
      "After dropping the features whose importance is lower than 0.01.\n",
      "Overall Accuracy: 70.79%\n",
      "--------------------------\n",
      "              precision    recall  f1-score   support\n",
      "\n",
      "           0       0.70      0.73      0.72      6978\n",
      "           1       0.71      0.68      0.70      6825\n",
      "\n",
      "    accuracy                           0.71     13803\n",
      "   macro avg       0.71      0.71      0.71     13803\n",
      "weighted avg       0.71      0.71      0.71     13803\n",
      "\n"
     ]
    },
    {
     "data": {
      "image/png": "[encoded data removed]",
      "text/plain": [
       "<Figure size 576x360 with 2 Axes>"
      ]
     },
     "metadata": {},
     "output_type": "display_data"
    }
   ],
   "source": [
    "# recal. using best k\n",
    "\n",
    "knn_best = KNeighborsClassifier(n_neighbors =  best_k)\n",
    "knn_best.fit(xtrain, ytrain)\n",
    "y_pred = knn_best.predict(xtest)\n",
    "k_NN_acc = accuracy_score(ytest, y_pred)\n",
    "\n",
    "print(\"After dropping the features whose importance is lower than 0.01.\")\n",
    "# overall accuracy and report\n",
    "report_heatmap(y_pred)"
   ]
  },
  {
   "cell_type": "markdown",
   "id": "8501e94a",
   "metadata": {},
   "source": [
    "## Deep Neural Network"
   ]
  },
  {
   "cell_type": "code",
   "execution_count": 89,
   "id": "096864a4",
   "metadata": {},
   "outputs": [
    {
     "name": "stdout",
     "output_type": "stream",
     "text": [
      "Epoch 1/10\n",
      "1726/1726 [==============================] - 2s 924us/step - loss: 0.6766 - accuracy: 0.5852\n",
      "Epoch 2/10\n",
      "1726/1726 [==============================] - 2s 872us/step - loss: 0.6507 - accuracy: 0.6182\n",
      "Epoch 3/10\n",
      "1726/1726 [==============================] - 1s 766us/step - loss: 0.6433 - accuracy: 0.6364\n",
      "Epoch 4/10\n",
      "1726/1726 [==============================] - 1s 766us/step - loss: 0.6384 - accuracy: 0.6436\n",
      "Epoch 5/10\n",
      "1726/1726 [==============================] - 1s 796us/step - loss: 0.6348 - accuracy: 0.6464\n",
      "Epoch 6/10\n",
      "1726/1726 [==============================] - 1s 807us/step - loss: 0.6320 - accuracy: 0.6487\n",
      "Epoch 7/10\n",
      "1726/1726 [==============================] - 1s 774us/step - loss: 0.6297 - accuracy: 0.6512\n",
      "Epoch 8/10\n",
      "1726/1726 [==============================] - 1s 766us/step - loss: 0.6277 - accuracy: 0.6532\n",
      "Epoch 9/10\n",
      "1726/1726 [==============================] - 1s 801us/step - loss: 0.6257 - accuracy: 0.6543\n",
      "Epoch 10/10\n",
      "1726/1726 [==============================] - 1s 766us/step - loss: 0.6240 - accuracy: 0.6571\n",
      "432/432 [==============================] - 0s 709us/step - loss: 0.6229 - accuracy: 0.6591\n",
      "After dropping the features whose importance is lower than 0.01.\n",
      "Test loss: 0.622868537902832\n",
      "Test accuracy: 0.6591320633888245\n"
     ]
    }
   ],
   "source": [
    "model1 = keras.Sequential([\n",
    "    keras.layers.Dense(2,input_shape=(7,),activation='sigmoid')\n",
    "])\n",
    "model1.compile(\n",
    "    optimizer='adam',\n",
    "    loss='sparse_categorical_crossentropy',\n",
    "    metrics=['accuracy']\n",
    ")\n",
    "\n",
    "\n",
    "model1.fit(xtrain,ytrain, epochs=10)\n",
    "score = model1.evaluate(xtest, ytest, verbose=1)\n",
    "\n",
    "print(\"After dropping the features whose importance is lower than 0.01.\")\n",
    "print('Test loss:', score[0])\n",
    "print('Test accuracy:', score[1])\n",
    "dnn_accr=score[1]\n"
   ]
  },
  {
   "cell_type": "markdown",
   "id": "9acfb638",
   "metadata": {},
   "source": [
    "## Ensemble Method"
   ]
  },
  {
   "cell_type": "code",
   "execution_count": 90,
   "id": "222f8f35",
   "metadata": {},
   "outputs": [],
   "source": [
    "from sklearn.ensemble import StackingClassifier"
   ]
  },
  {
   "cell_type": "code",
   "execution_count": 91,
   "id": "4ccfac43",
   "metadata": {},
   "outputs": [
    {
     "name": "stderr",
     "output_type": "stream",
     "text": [
      "/Users/wuchengying/opt/anaconda3/lib/python3.8/site-packages/sklearn/svm/_base.py:985: ConvergenceWarning: Liblinear failed to converge, increase the number of iterations.\n",
      "  warnings.warn(\"Liblinear failed to converge, increase \"\n",
      "/Users/wuchengying/opt/anaconda3/lib/python3.8/site-packages/sklearn/svm/_base.py:985: ConvergenceWarning: Liblinear failed to converge, increase the number of iterations.\n",
      "  warnings.warn(\"Liblinear failed to converge, increase \"\n",
      "/Users/wuchengying/opt/anaconda3/lib/python3.8/site-packages/sklearn/svm/_base.py:985: ConvergenceWarning: Liblinear failed to converge, increase the number of iterations.\n",
      "  warnings.warn(\"Liblinear failed to converge, increase \"\n",
      "/Users/wuchengying/opt/anaconda3/lib/python3.8/site-packages/sklearn/svm/_base.py:985: ConvergenceWarning: Liblinear failed to converge, increase the number of iterations.\n",
      "  warnings.warn(\"Liblinear failed to converge, increase \"\n",
      "/Users/wuchengying/opt/anaconda3/lib/python3.8/site-packages/sklearn/svm/_base.py:985: ConvergenceWarning: Liblinear failed to converge, increase the number of iterations.\n",
      "  warnings.warn(\"Liblinear failed to converge, increase \"\n",
      "/Users/wuchengying/opt/anaconda3/lib/python3.8/site-packages/sklearn/svm/_base.py:985: ConvergenceWarning: Liblinear failed to converge, increase the number of iterations.\n",
      "  warnings.warn(\"Liblinear failed to converge, increase \"\n"
     ]
    },
    {
     "data": {
      "text/plain": [
       "StackingClassifier(estimators=[('LR',\n",
       "                                LogisticRegression(C=3792.690190732246,\n",
       "                                                   max_iter=50, penalty='l1',\n",
       "                                                   solver='liblinear')),\n",
       "                               ('KNN', KNeighborsClassifier(n_neighbors=9)),\n",
       "                               ('RFCF',\n",
       "                                RandomForestClassifier(max_depth=3,\n",
       "                                                       n_estimators=7,\n",
       "                                                       random_state=42)),\n",
       "                               ('DT', DecisionTreeClassifier(max_depth=7))],\n",
       "                   final_estimator=LogisticRegression())"
      ]
     },
     "execution_count": 91,
     "metadata": {},
     "output_type": "execute_result"
    }
   ],
   "source": [
    "estimator=[\n",
    "    ('LR',lr_best),\n",
    "    ('KNN',knn_best),\n",
    "    ('RFCF',rfc_best),\n",
    "    ('DT',dt_best)]\n",
    "clf=StackingClassifier(estimators=estimator, final_estimator=LogisticRegression())\n",
    "clf.fit(xtrain, ytrain)"
   ]
  },
  {
   "cell_type": "code",
   "execution_count": 92,
   "id": "90bd3a8e",
   "metadata": {},
   "outputs": [
    {
     "name": "stdout",
     "output_type": "stream",
     "text": [
      "After dropping the features whose importance is lower than 0.01.\n",
      "Overall Accuracy: 73.23%\n",
      "--------------------------\n",
      "              precision    recall  f1-score   support\n",
      "\n",
      "           0       0.71      0.79      0.75      6978\n",
      "           1       0.76      0.68      0.71      6825\n",
      "\n",
      "    accuracy                           0.73     13803\n",
      "   macro avg       0.73      0.73      0.73     13803\n",
      "weighted avg       0.73      0.73      0.73     13803\n",
      "\n"
     ]
    },
    {
     "data": {
      "image/png": "[encoded data removed]",
      "text/plain": [
       "<Figure size 576x360 with 2 Axes>"
      ]
     },
     "metadata": {},
     "output_type": "display_data"
    }
   ],
   "source": [
    "y_pred = clf.predict(xtest)\n",
    "clfacc = accuracy_score(ytest, y_pred)\n",
    "clfacc\n",
    "\n",
    "print(\"After dropping the features whose importance is lower than 0.01.\")\n",
    "report_heatmap( y_pred )"
   ]
  },
  {
   "cell_type": "markdown",
   "id": "5aa32299",
   "metadata": {},
   "source": [
    "## Support vector machine"
   ]
  },
  {
   "cell_type": "code",
   "execution_count": 93,
   "id": "57c36499",
   "metadata": {},
   "outputs": [],
   "source": [
    "from sklearn import svm"
   ]
  },
  {
   "cell_type": "code",
   "execution_count": 94,
   "id": "1c2c2eef",
   "metadata": {},
   "outputs": [],
   "source": [
    "svc = svm.SVC()\n",
    "svc_fit = svc.fit(xtrain, ytrain)"
   ]
  },
  {
   "cell_type": "code",
   "execution_count": 95,
   "id": "ce89dbe9",
   "metadata": {},
   "outputs": [
    {
     "name": "stdout",
     "output_type": "stream",
     "text": [
      "SVM accuracy = 0.7320872274143302\n",
      "After dropping the features whose importance is lower than 0.01.\n",
      "Overall Accuracy: 73.21%\n",
      "--------------------------\n",
      "              precision    recall  f1-score   support\n",
      "\n",
      "           0       0.71      0.79      0.75      6978\n",
      "           1       0.76      0.68      0.71      6825\n",
      "\n",
      "    accuracy                           0.73     13803\n",
      "   macro avg       0.73      0.73      0.73     13803\n",
      "weighted avg       0.73      0.73      0.73     13803\n",
      "\n"
     ]
    },
    {
     "data": {
      "image/png": "[encoded data removed]",
      "text/plain": [
       "<Figure size 576x360 with 2 Axes>"
      ]
     },
     "metadata": {},
     "output_type": "display_data"
    }
   ],
   "source": [
    "y_pred = svc.predict(xtest)\n",
    "\n",
    "svm_acc = accuracy_score(ytest, y_pred)\n",
    "print(\"SVM accuracy = \" + str(svm_acc))\n",
    "\n",
    "print(\"After dropping the features whose importance is lower than 0.01.\")\n",
    "report_heatmap( y_pred )"
   ]
  },
  {
   "cell_type": "markdown",
   "id": "7a210bba",
   "metadata": {},
   "source": [
    "## Model Comparision"
   ]
  },
  {
   "cell_type": "code",
   "execution_count": 99,
   "id": "48cf2e5f",
   "metadata": {
    "scrolled": false
   },
   "outputs": [
    {
     "name": "stdout",
     "output_type": "stream",
     "text": [
      "After dropping the features whose importance is lower than 0.01.\n"
     ]
    },
    {
     "data": {
      "text/html": [
       "<div>\n",
       "<style scoped>\n",
       "    .dataframe tbody tr th:only-of-type {\n",
       "        vertical-align: middle;\n",
       "    }\n",
       "\n",
       "    .dataframe tbody tr th {\n",
       "        vertical-align: top;\n",
       "    }\n",
       "\n",
       "    .dataframe thead th {\n",
       "        text-align: right;\n",
       "    }\n",
       "</style>\n",
       "<table border=\"1\" class=\"dataframe\">\n",
       "  <thead>\n",
       "    <tr style=\"text-align: right;\">\n",
       "      <th></th>\n",
       "      <th>SVM</th>\n",
       "      <th>Ensemble</th>\n",
       "      <th>DNN</th>\n",
       "      <th>MLPNN</th>\n",
       "      <th>KNN</th>\n",
       "      <th>Logistic R</th>\n",
       "      <th>Decision Tree</th>\n",
       "      <th>Random Forest</th>\n",
       "    </tr>\n",
       "  </thead>\n",
       "  <tbody>\n",
       "    <tr>\n",
       "      <th>accuracy</th>\n",
       "      <td>0.732087</td>\n",
       "      <td>0.732305</td>\n",
       "      <td>0.659132</td>\n",
       "      <td>0.727378</td>\n",
       "      <td>0.70789</td>\n",
       "      <td>0.72832</td>\n",
       "      <td>0.730276</td>\n",
       "      <td>0.72448</td>\n",
       "    </tr>\n",
       "  </tbody>\n",
       "</table>\n",
       "</div>"
      ],
      "text/plain": [
       "               SVM  Ensemble       DNN     MLPNN      KNN  Logistic R  \\\n",
       "accuracy  0.732087  0.732305  0.659132  0.727378  0.70789     0.72832   \n",
       "\n",
       "          Decision Tree  Random Forest  \n",
       "accuracy       0.730276        0.72448  "
      ]
     },
     "metadata": {},
     "output_type": "display_data"
    },
    {
     "data": {
      "image/png": "[encoded data removed]",
      "text/plain": [
       "<Figure size 720x360 with 1 Axes>"
      ]
     },
     "metadata": {},
     "output_type": "display_data"
    }
   ],
   "source": [
    "# Accuracies for three best models \n",
    "model_compare1 = pd.DataFrame({\"SVM\":svm_acc,\"Ensemble\":clfacc,\"DNN\":dnn_accr,\"MLPNN\":mlpc_acc,\"KNN\":k_NN_acc,\"Logistic R\":lr_acc, \"Decision Tree\":dt_acc, \"Random Forest\":rfc_acc}, index=[\"accuracy\"])\n",
    "model_compare1.T.plot.bar(figsize=[10, 5]) \n",
    "\n",
    "print(\"After dropping the features whose importance is lower than 0.01.\")\n",
    "display(model_compare1)\n",
    "\n",
    "plt.show( )"
   ]
  }
 ],
 "metadata": {
  "kernelspec": {
   "display_name": "Python 3 (ipykernel)",
   "language": "python",
   "name": "python3"
  },
  "language_info": {
   "codemirror_mode": {
    "name": "ipython",
    "version": 3
   },
   "file_extension": ".py",
   "mimetype": "text/x-python",
   "name": "python",
   "nbconvert_exporter": "python",
   "pygments_lexer": "ipython3",
   "version": "3.9.13"
  }
 },
 "nbformat": 4,
 "nbformat_minor": 5
}
